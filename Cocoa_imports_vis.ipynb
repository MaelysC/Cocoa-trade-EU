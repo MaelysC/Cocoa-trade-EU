{
  "nbformat": 4,
  "nbformat_minor": 0,
  "metadata": {
    "colab": {
      "name": "Cocoa_imports_vis.ipynb",
      "provenance": [],
      "authorship_tag": "ABX9TyMUb4j+5jPvYgCg7AmVbdfq",
      "include_colab_link": true
    },
    "kernelspec": {
      "name": "python3",
      "display_name": "Python 3"
    },
    "language_info": {
      "name": "python"
    }
  },
  "cells": [
    {
      "cell_type": "markdown",
      "metadata": {
        "id": "view-in-github",
        "colab_type": "text"
      },
      "source": [
        "<a href=\"https://colab.research.google.com/github/MaelysC/Cocoa-trade-EU/blob/main/Cocoa_imports_vis.ipynb\" target=\"_parent\"><img src=\"https://colab.research.google.com/assets/colab-badge.svg\" alt=\"Open In Colab\"/></a>"
      ]
    },
    {
      "cell_type": "code",
      "metadata": {
        "colab": {
          "base_uri": "https://localhost:8080/"
        },
        "id": "eHYQlY09eTSV",
        "outputId": "bce85784-c9c6-49b2-d564-80c10fe5c158"
      },
      "source": [
        "!pip install chart-studio"
      ],
      "execution_count": null,
      "outputs": [
        {
          "output_type": "stream",
          "text": [
            "Collecting chart-studio\n",
            "  Downloading chart_studio-1.1.0-py3-none-any.whl (64 kB)\n",
            "\u001b[?25l\r\u001b[K     |█████                           | 10 kB 19.9 MB/s eta 0:00:01\r\u001b[K     |██████████▏                     | 20 kB 24.4 MB/s eta 0:00:01\r\u001b[K     |███████████████▎                | 30 kB 11.9 MB/s eta 0:00:01\r\u001b[K     |████████████████████▍           | 40 kB 9.2 MB/s eta 0:00:01\r\u001b[K     |█████████████████████████▍      | 51 kB 5.1 MB/s eta 0:00:01\r\u001b[K     |██████████████████████████████▌ | 61 kB 5.1 MB/s eta 0:00:01\r\u001b[K     |████████████████████████████████| 64 kB 1.7 MB/s \n",
            "\u001b[?25hRequirement already satisfied: retrying>=1.3.3 in /usr/local/lib/python3.7/dist-packages (from chart-studio) (1.3.3)\n",
            "Requirement already satisfied: six in /usr/local/lib/python3.7/dist-packages (from chart-studio) (1.15.0)\n",
            "Requirement already satisfied: plotly in /usr/local/lib/python3.7/dist-packages (from chart-studio) (4.4.1)\n",
            "Requirement already satisfied: requests in /usr/local/lib/python3.7/dist-packages (from chart-studio) (2.23.0)\n",
            "Requirement already satisfied: idna<3,>=2.5 in /usr/local/lib/python3.7/dist-packages (from requests->chart-studio) (2.10)\n",
            "Requirement already satisfied: chardet<4,>=3.0.2 in /usr/local/lib/python3.7/dist-packages (from requests->chart-studio) (3.0.4)\n",
            "Requirement already satisfied: urllib3!=1.25.0,!=1.25.1,<1.26,>=1.21.1 in /usr/local/lib/python3.7/dist-packages (from requests->chart-studio) (1.24.3)\n",
            "Requirement already satisfied: certifi>=2017.4.17 in /usr/local/lib/python3.7/dist-packages (from requests->chart-studio) (2021.5.30)\n",
            "Installing collected packages: chart-studio\n",
            "Successfully installed chart-studio-1.1.0\n"
          ],
          "name": "stdout"
        }
      ]
    },
    {
      "cell_type": "code",
      "metadata": {
        "id": "B1hTg5MBzMgt"
      },
      "source": [
        "import json, urllib.request\n",
        "import plotly.graph_objects as go\n",
        "import pandas as pd\n",
        "import numpy as np"
      ],
      "execution_count": null,
      "outputs": []
    },
    {
      "cell_type": "markdown",
      "metadata": {
        "id": "Ii4zS40CfNaD"
      },
      "source": [
        "# Cocoa beans flows, scaled"
      ]
    },
    {
      "cell_type": "code",
      "metadata": {
        "id": "Xx9oybGhe-sP"
      },
      "source": [
        "beansimports_df = pd.read_csv('Sankey_beans_dfv3.csv')\n",
        "beanssources_list = pd.read_csv('Sankey_beans_sourcesV3.csv')"
      ],
      "execution_count": null,
      "outputs": []
    },
    {
      "cell_type": "code",
      "metadata": {
        "colab": {
          "base_uri": "https://localhost:8080/",
          "height": 789
        },
        "id": "mYajKR9kfMLg",
        "outputId": "dd44aad9-3298-40b8-85ec-817162a89ee0"
      },
      "source": [
        "data_trace = dict(\n",
        "    type='sankey',\n",
        "    domain = dict(\n",
        "      x =  [0,1],\n",
        "      y =  [0,1]\n",
        "    ),\n",
        "    orientation = \"h\",\n",
        "    valueformat = \".0f\",\n",
        "    node = dict(\n",
        "      pad = 10,\n",
        "      thickness = 20,\n",
        "      line = dict(\n",
        "        color = 'white',\n",
        "        width = 0.5\n",
        "      ),\n",
        "      label =  beanssources_list['Desc'].dropna(axis=0, how='any'),\n",
        "      color = beanssources_list['Color']\n",
        "    ),\n",
        "    link = dict(\n",
        "      source = beansimports_df['Source'].dropna(axis=0, how='any'),\n",
        "      target = beansimports_df['Target'].dropna(axis=0, how='any'),\n",
        "      value = beansimports_df['Value_scaled'].dropna(axis=0, how='any'),\n",
        "      color = beansimports_df['Link Color']\n",
        "  )\n",
        ")\n",
        "\n",
        "layout =  dict(\n",
        "    title = \"Flow of cocoa beans from West Africa to Europe in 2017 (Quantity in tonnes)\",\n",
        "    height = 772,\n",
        "    width = 950,\n",
        "    font = dict(\n",
        "      size = 10\n",
        "    ),    \n",
        ")\n",
        "\n",
        "\n",
        "fig = go.Figure(data=[go.Sankey(data_trace)], layout=layout)\n",
        "fig.show()"
      ],
      "execution_count": null,
      "outputs": [
        {
          "output_type": "display_data",
          "data": {
            "text/html": [
              "<html>\n",
              "<head><meta charset=\"utf-8\" /></head>\n",
              "<body>\n",
              "    <div>\n",
              "            <script src=\"https://cdnjs.cloudflare.com/ajax/libs/mathjax/2.7.5/MathJax.js?config=TeX-AMS-MML_SVG\"></script><script type=\"text/javascript\">if (window.MathJax) {MathJax.Hub.Config({SVG: {font: \"STIX-Web\"}});}</script>\n",
              "                <script type=\"text/javascript\">window.PlotlyConfig = {MathJaxConfig: 'local'};</script>\n",
              "        <script src=\"https://cdn.plot.ly/plotly-latest.min.js\"></script>    \n",
              "            <div id=\"9842fa75-429d-4e7f-a1b5-432e0ea00e5e\" class=\"plotly-graph-div\" style=\"height:772px; width:950px;\"></div>\n",
              "            <script type=\"text/javascript\">\n",
              "                \n",
              "                    window.PLOTLYENV=window.PLOTLYENV || {};\n",
              "                    \n",
              "                if (document.getElementById(\"9842fa75-429d-4e7f-a1b5-432e0ea00e5e\")) {\n",
              "                    Plotly.newPlot(\n",
              "                        '9842fa75-429d-4e7f-a1b5-432e0ea00e5e',\n",
              "                        [{\"domain\": {\"x\": [0, 1], \"y\": [0, 1]}, \"link\": {\"color\": [\"rgba(181,131,141,0.2)\", \"rgba(181,131,141,0.2)\", \"rgba(181,131,141,0.2)\", \"rgba(181,131,141,0.2)\", \"rgba(181,131,141,0.2)\", \"rgba(181,131,141,0.2)\", \"rgba(181,131,141,0.2)\", \"rgba(181,131,141,0.2)\", \"rgba(181,131,141,0.2)\", \"rgba(181,131,141,0.2)\", \"rgba(181,131,141,0.2)\", \"rgba(181,131,141,0.2)\", \"rgba(181,131,141,0.2)\", \"rgba(181,131,141,0.2)\", \"rgba(181,131,141,0.2)\", \"rgba(181,131,141,0.2)\", \"rgba(181,131,141,0.2)\", \"rgba(181,131,141,0.2)\", \"rgba(181,131,141,0.2)\", \"rgba(181,131,141,0.2)\", \"rgba(181,131,141,0.2)\", \"rgba(181,131,141,0.2)\", \"rgba(181,131,141,0.2)\", \"rgba(181,131,141,0.2)\", \"rgba(181,131,141,0.2)\", \"rgba(181,131,141,0.2)\", \"rgba(181,131,141,0.2)\", \"rgba(181,131,141,0.2)\", \"rgba(181,131,141,0.2)\", \"rgba(181,131,141,0.2)\", \"rgba(181,131,141,0.2)\", \"rgba(181,131,141,0.2)\", \"rgba(181,131,141,0.2)\", \"rgba(181,131,141,0.2)\", \"rgba(181,131,141,0.2)\", \"rgba(181,131,141,0.2)\", \"rgba(181,131,141,0.2)\", \"rgba(181,131,141,0.2)\", \"rgba(181,131,141,0.2)\", \"rgba(181,131,141,0.2)\", \"rgba(181,131,141,0.2)\", \"rgba(181,131,141,0.2)\", \"rgba(181,131,141,0.2)\", \"rgba(181,131,141,0.2)\", \"rgba(181,131,141,0.2)\", \"rgba(181,131,141,0.2)\", \"rgba(181,131,141,0.2)\", \"rgba(181,131,141,0.2)\", \"rgba(181,131,141,0.2)\", \"rgba(181,131,141,0.2)\", \"rgba(181,131,141,0.2)\", \"rgba(181,131,141,0.2)\", \"rgba(181,131,141,0.2)\", \"rgba(181,131,141,0.2)\", \"rgba(181,131,141,0.2)\", \"rgba(181,131,141,0.2)\", \"rgba(181,131,141,0.2)\", \"rgba(181,131,141,0.2)\", \"rgba(181,131,141,0.2)\", \"rgba(181,131,141,0.2)\", \"rgba(181,131,141,0.2)\", \"rgba(181,131,141,0.2)\"], \"source\": [8, 8, 8, 8, 8, 8, 8, 8, 8, 8, 1, 1, 1, 1, 1, 1, 1, 1, 6, 6, 6, 6, 6, 6, 6, 6, 5, 5, 5, 5, 5, 5, 5, 5, 0, 0, 0, 0, 0, 0, 0, 0, 0, 0, 2, 2, 2, 2, 2, 2, 2, 2, 2, 2, 3, 5, 6, 7, 8, 9, 10, 11], \"target\": [13, 14, 15, 16, 17, 18, 19, 20, 21, 22, 8, 5, 2, 6, 7, 10, 11, 3, 16, 17, 23, 14, 18, 22, 19, 24, 25, 15, 22, 23, 18, 17, 13, 16, 8, 2, 6, 11, 5, 7, 10, 9, 3, 4, 13, 23, 14, 18, 15, 17, 19, 16, 20, 12, 12, 12, 12, 12, 12, 12, 12, 12], \"value\": [73670.784, 4321.152, 2697.552, 2288.3520000000003, 1991.088, 1980.5279999999998, 1276.704, 875.952, 245.52, 55.44, 112387.0, 37707.0, 32006.0, 26985.0, 17115.0, 14551.0, 14498.0, 160.0, 1454.5439999999999, 1347.024, 855.12, 693.84, 412.272, 187.824, 134.064, 47.376000000000005, 19278.165, 4029.627, 1582.605, 986.5830000000001, 453.495, 196.206, 156.101, 75.274, 412155.0, 204303.0, 123966.0, 57890.0, 50015.0, 47081.0, 35507.0, 2513.0, 1001.0, 274.0, 76573.40400000001, 41235.75, 26707.482000000004, 1165.302, 990.3960000000001, 568.998, 249.44400000000002, 214.02, 76.752, 61303.445999999996, 1152.8, 87253.055, 145358.304, 63691.52, 273900.0, 2479.739, 50081.49, 72072.532]}, \"node\": {\"color\": [\"#fec5bb\", \"#fec89a\", \"#f8961e\", \"#f9c74f\", \"#efea5a\", \"#277da1\", \"#4d908e\", \"#90be6d\", \"#f9c74f\", \"#577590\", \"#f94144\", \"#a3cef1\", \"#b1a7a6\", \"#4d908e\", \"#277da1\", \"#f94144\", \"#577590\", \"#272640\", \"#90be6d\", \"#16db93\", \"#641220\", \"#efea5a\", \"#f8961e\", \"#f9c74f\", \"#373d20\", \"#a3cef1\"], \"label\": [\"C\\u00f4te d'Ivoire\", \"Ghana\", \"Belgium direct imports\", \"Bulgaria direct imports\", \"Estonia direct imports\", \"France direct imports\", \"Germany direct imports\", \"Italy direct imports\", \"Netherlands direct imports\", \"Poland direct imports\", \"Spain direct imports\", \"United Kingdom direct imports\", \"Processed in country\", \"Germany re-imports\", \"France re-imports\", \"Spain re-imports\", \"Poland re-imports\", \"Austria re-imports\", \"Italy re-imports\", \"Greece re-imports\", \"Croatia re-imports\", \"Estonia re-imports\", \"Belgium re-imports\", \"Netherlands re-imports\", \"Denmark re-imports\", \"United Kingdom re-imports\"], \"line\": {\"color\": \"white\", \"width\": 0.5}, \"pad\": 10, \"thickness\": 20}, \"orientation\": \"h\", \"type\": \"sankey\", \"valueformat\": \".0f\"}],\n",
              "                        {\"font\": {\"size\": 10}, \"height\": 772, \"template\": {\"data\": {\"bar\": [{\"error_x\": {\"color\": \"#2a3f5f\"}, \"error_y\": {\"color\": \"#2a3f5f\"}, \"marker\": {\"line\": {\"color\": \"#E5ECF6\", \"width\": 0.5}}, \"type\": \"bar\"}], \"barpolar\": [{\"marker\": {\"line\": {\"color\": \"#E5ECF6\", \"width\": 0.5}}, \"type\": \"barpolar\"}], \"carpet\": [{\"aaxis\": {\"endlinecolor\": \"#2a3f5f\", \"gridcolor\": \"white\", \"linecolor\": \"white\", \"minorgridcolor\": \"white\", \"startlinecolor\": \"#2a3f5f\"}, \"baxis\": {\"endlinecolor\": \"#2a3f5f\", \"gridcolor\": \"white\", \"linecolor\": \"white\", \"minorgridcolor\": \"white\", \"startlinecolor\": \"#2a3f5f\"}, \"type\": \"carpet\"}], \"choropleth\": [{\"colorbar\": {\"outlinewidth\": 0, \"ticks\": \"\"}, \"type\": \"choropleth\"}], \"contour\": [{\"colorbar\": {\"outlinewidth\": 0, \"ticks\": \"\"}, \"colorscale\": [[0.0, \"#0d0887\"], [0.1111111111111111, \"#46039f\"], [0.2222222222222222, \"#7201a8\"], [0.3333333333333333, \"#9c179e\"], [0.4444444444444444, \"#bd3786\"], [0.5555555555555556, \"#d8576b\"], [0.6666666666666666, \"#ed7953\"], [0.7777777777777778, \"#fb9f3a\"], [0.8888888888888888, \"#fdca26\"], [1.0, \"#f0f921\"]], \"type\": \"contour\"}], \"contourcarpet\": [{\"colorbar\": {\"outlinewidth\": 0, \"ticks\": \"\"}, \"type\": \"contourcarpet\"}], \"heatmap\": [{\"colorbar\": {\"outlinewidth\": 0, \"ticks\": \"\"}, \"colorscale\": [[0.0, \"#0d0887\"], [0.1111111111111111, \"#46039f\"], [0.2222222222222222, \"#7201a8\"], [0.3333333333333333, \"#9c179e\"], [0.4444444444444444, \"#bd3786\"], [0.5555555555555556, \"#d8576b\"], [0.6666666666666666, \"#ed7953\"], [0.7777777777777778, \"#fb9f3a\"], [0.8888888888888888, \"#fdca26\"], [1.0, \"#f0f921\"]], \"type\": \"heatmap\"}], \"heatmapgl\": [{\"colorbar\": {\"outlinewidth\": 0, \"ticks\": \"\"}, \"colorscale\": [[0.0, \"#0d0887\"], [0.1111111111111111, \"#46039f\"], [0.2222222222222222, \"#7201a8\"], [0.3333333333333333, \"#9c179e\"], [0.4444444444444444, \"#bd3786\"], [0.5555555555555556, \"#d8576b\"], [0.6666666666666666, \"#ed7953\"], [0.7777777777777778, \"#fb9f3a\"], [0.8888888888888888, \"#fdca26\"], [1.0, \"#f0f921\"]], \"type\": \"heatmapgl\"}], \"histogram\": [{\"marker\": {\"colorbar\": {\"outlinewidth\": 0, \"ticks\": \"\"}}, \"type\": \"histogram\"}], \"histogram2d\": [{\"colorbar\": {\"outlinewidth\": 0, \"ticks\": \"\"}, \"colorscale\": [[0.0, \"#0d0887\"], [0.1111111111111111, \"#46039f\"], [0.2222222222222222, \"#7201a8\"], [0.3333333333333333, \"#9c179e\"], [0.4444444444444444, \"#bd3786\"], [0.5555555555555556, \"#d8576b\"], [0.6666666666666666, \"#ed7953\"], [0.7777777777777778, \"#fb9f3a\"], [0.8888888888888888, \"#fdca26\"], [1.0, \"#f0f921\"]], \"type\": \"histogram2d\"}], \"histogram2dcontour\": [{\"colorbar\": {\"outlinewidth\": 0, \"ticks\": \"\"}, \"colorscale\": [[0.0, \"#0d0887\"], [0.1111111111111111, \"#46039f\"], [0.2222222222222222, \"#7201a8\"], [0.3333333333333333, \"#9c179e\"], [0.4444444444444444, \"#bd3786\"], [0.5555555555555556, \"#d8576b\"], [0.6666666666666666, \"#ed7953\"], [0.7777777777777778, \"#fb9f3a\"], [0.8888888888888888, \"#fdca26\"], [1.0, \"#f0f921\"]], \"type\": \"histogram2dcontour\"}], \"mesh3d\": [{\"colorbar\": {\"outlinewidth\": 0, \"ticks\": \"\"}, \"type\": \"mesh3d\"}], \"parcoords\": [{\"line\": {\"colorbar\": {\"outlinewidth\": 0, \"ticks\": \"\"}}, \"type\": \"parcoords\"}], \"pie\": [{\"automargin\": true, \"type\": \"pie\"}], \"scatter\": [{\"marker\": {\"colorbar\": {\"outlinewidth\": 0, \"ticks\": \"\"}}, \"type\": \"scatter\"}], \"scatter3d\": [{\"line\": {\"colorbar\": {\"outlinewidth\": 0, \"ticks\": \"\"}}, \"marker\": {\"colorbar\": {\"outlinewidth\": 0, \"ticks\": \"\"}}, \"type\": \"scatter3d\"}], \"scattercarpet\": [{\"marker\": {\"colorbar\": {\"outlinewidth\": 0, \"ticks\": \"\"}}, \"type\": \"scattercarpet\"}], \"scattergeo\": [{\"marker\": {\"colorbar\": {\"outlinewidth\": 0, \"ticks\": \"\"}}, \"type\": \"scattergeo\"}], \"scattergl\": [{\"marker\": {\"colorbar\": {\"outlinewidth\": 0, \"ticks\": \"\"}}, \"type\": \"scattergl\"}], \"scattermapbox\": [{\"marker\": {\"colorbar\": {\"outlinewidth\": 0, \"ticks\": \"\"}}, \"type\": \"scattermapbox\"}], \"scatterpolar\": [{\"marker\": {\"colorbar\": {\"outlinewidth\": 0, \"ticks\": \"\"}}, \"type\": \"scatterpolar\"}], \"scatterpolargl\": [{\"marker\": {\"colorbar\": {\"outlinewidth\": 0, \"ticks\": \"\"}}, \"type\": \"scatterpolargl\"}], \"scatterternary\": [{\"marker\": {\"colorbar\": {\"outlinewidth\": 0, \"ticks\": \"\"}}, \"type\": \"scatterternary\"}], \"surface\": [{\"colorbar\": {\"outlinewidth\": 0, \"ticks\": \"\"}, \"colorscale\": [[0.0, \"#0d0887\"], [0.1111111111111111, \"#46039f\"], [0.2222222222222222, \"#7201a8\"], [0.3333333333333333, \"#9c179e\"], [0.4444444444444444, \"#bd3786\"], [0.5555555555555556, \"#d8576b\"], [0.6666666666666666, \"#ed7953\"], [0.7777777777777778, \"#fb9f3a\"], [0.8888888888888888, \"#fdca26\"], [1.0, \"#f0f921\"]], \"type\": \"surface\"}], \"table\": [{\"cells\": {\"fill\": {\"color\": \"#EBF0F8\"}, \"line\": {\"color\": \"white\"}}, \"header\": {\"fill\": {\"color\": \"#C8D4E3\"}, \"line\": {\"color\": \"white\"}}, \"type\": \"table\"}]}, \"layout\": {\"annotationdefaults\": {\"arrowcolor\": \"#2a3f5f\", \"arrowhead\": 0, \"arrowwidth\": 1}, \"coloraxis\": {\"colorbar\": {\"outlinewidth\": 0, \"ticks\": \"\"}}, \"colorscale\": {\"diverging\": [[0, \"#8e0152\"], [0.1, \"#c51b7d\"], [0.2, \"#de77ae\"], [0.3, \"#f1b6da\"], [0.4, \"#fde0ef\"], [0.5, \"#f7f7f7\"], [0.6, \"#e6f5d0\"], [0.7, \"#b8e186\"], [0.8, \"#7fbc41\"], [0.9, \"#4d9221\"], [1, \"#276419\"]], \"sequential\": [[0.0, \"#0d0887\"], [0.1111111111111111, \"#46039f\"], [0.2222222222222222, \"#7201a8\"], [0.3333333333333333, \"#9c179e\"], [0.4444444444444444, \"#bd3786\"], [0.5555555555555556, \"#d8576b\"], [0.6666666666666666, \"#ed7953\"], [0.7777777777777778, \"#fb9f3a\"], [0.8888888888888888, \"#fdca26\"], [1.0, \"#f0f921\"]], \"sequentialminus\": [[0.0, \"#0d0887\"], [0.1111111111111111, \"#46039f\"], [0.2222222222222222, \"#7201a8\"], [0.3333333333333333, \"#9c179e\"], [0.4444444444444444, \"#bd3786\"], [0.5555555555555556, \"#d8576b\"], [0.6666666666666666, \"#ed7953\"], [0.7777777777777778, \"#fb9f3a\"], [0.8888888888888888, \"#fdca26\"], [1.0, \"#f0f921\"]]}, \"colorway\": [\"#636efa\", \"#EF553B\", \"#00cc96\", \"#ab63fa\", \"#FFA15A\", \"#19d3f3\", \"#FF6692\", \"#B6E880\", \"#FF97FF\", \"#FECB52\"], \"font\": {\"color\": \"#2a3f5f\"}, \"geo\": {\"bgcolor\": \"white\", \"lakecolor\": \"white\", \"landcolor\": \"#E5ECF6\", \"showlakes\": true, \"showland\": true, \"subunitcolor\": \"white\"}, \"hoverlabel\": {\"align\": \"left\"}, \"hovermode\": \"closest\", \"mapbox\": {\"style\": \"light\"}, \"paper_bgcolor\": \"white\", \"plot_bgcolor\": \"#E5ECF6\", \"polar\": {\"angularaxis\": {\"gridcolor\": \"white\", \"linecolor\": \"white\", \"ticks\": \"\"}, \"bgcolor\": \"#E5ECF6\", \"radialaxis\": {\"gridcolor\": \"white\", \"linecolor\": \"white\", \"ticks\": \"\"}}, \"scene\": {\"xaxis\": {\"backgroundcolor\": \"#E5ECF6\", \"gridcolor\": \"white\", \"gridwidth\": 2, \"linecolor\": \"white\", \"showbackground\": true, \"ticks\": \"\", \"zerolinecolor\": \"white\"}, \"yaxis\": {\"backgroundcolor\": \"#E5ECF6\", \"gridcolor\": \"white\", \"gridwidth\": 2, \"linecolor\": \"white\", \"showbackground\": true, \"ticks\": \"\", \"zerolinecolor\": \"white\"}, \"zaxis\": {\"backgroundcolor\": \"#E5ECF6\", \"gridcolor\": \"white\", \"gridwidth\": 2, \"linecolor\": \"white\", \"showbackground\": true, \"ticks\": \"\", \"zerolinecolor\": \"white\"}}, \"shapedefaults\": {\"line\": {\"color\": \"#2a3f5f\"}}, \"ternary\": {\"aaxis\": {\"gridcolor\": \"white\", \"linecolor\": \"white\", \"ticks\": \"\"}, \"baxis\": {\"gridcolor\": \"white\", \"linecolor\": \"white\", \"ticks\": \"\"}, \"bgcolor\": \"#E5ECF6\", \"caxis\": {\"gridcolor\": \"white\", \"linecolor\": \"white\", \"ticks\": \"\"}}, \"title\": {\"x\": 0.05}, \"xaxis\": {\"automargin\": true, \"gridcolor\": \"white\", \"linecolor\": \"white\", \"ticks\": \"\", \"title\": {\"standoff\": 15}, \"zerolinecolor\": \"white\", \"zerolinewidth\": 2}, \"yaxis\": {\"automargin\": true, \"gridcolor\": \"white\", \"linecolor\": \"white\", \"ticks\": \"\", \"title\": {\"standoff\": 15}, \"zerolinecolor\": \"white\", \"zerolinewidth\": 2}}}, \"title\": {\"text\": \"Flow of cocoa beans from West Africa to Europe in 2017 (Quantity in tonnes)\"}, \"width\": 950},\n",
              "                        {\"responsive\": true}\n",
              "                    ).then(function(){\n",
              "                            \n",
              "var gd = document.getElementById('9842fa75-429d-4e7f-a1b5-432e0ea00e5e');\n",
              "var x = new MutationObserver(function (mutations, observer) {{\n",
              "        var display = window.getComputedStyle(gd).display;\n",
              "        if (!display || display === 'none') {{\n",
              "            console.log([gd, 'removed!']);\n",
              "            Plotly.purge(gd);\n",
              "            observer.disconnect();\n",
              "        }}\n",
              "}});\n",
              "\n",
              "// Listen for the removal of the full notebook cells\n",
              "var notebookContainer = gd.closest('#notebook-container');\n",
              "if (notebookContainer) {{\n",
              "    x.observe(notebookContainer, {childList: true});\n",
              "}}\n",
              "\n",
              "// Listen for the clearing of the current output cell\n",
              "var outputEl = gd.closest('.output');\n",
              "if (outputEl) {{\n",
              "    x.observe(outputEl, {childList: true});\n",
              "}}\n",
              "\n",
              "                        })\n",
              "                };\n",
              "                \n",
              "            </script>\n",
              "        </div>\n",
              "</body>\n",
              "</html>"
            ]
          },
          "metadata": {
            "tags": []
          }
        }
      ]
    },
    {
      "cell_type": "code",
      "metadata": {
        "id": "ye3v96pmhozB"
      },
      "source": [
        "import plotly"
      ],
      "execution_count": null,
      "outputs": []
    },
    {
      "cell_type": "code",
      "metadata": {
        "colab": {
          "base_uri": "https://localhost:8080/",
          "height": 35
        },
        "id": "vhW5nNhNRwFh",
        "outputId": "fd722215-008d-4b30-d077-ab7db778cd44"
      },
      "source": [
        "plotly.offline.plot(fig, filename=r'GH_CI_EU28_Cocoabeansexports_2017_SankeyinteractiveV3.html')"
      ],
      "execution_count": null,
      "outputs": [
        {
          "output_type": "execute_result",
          "data": {
            "application/vnd.google.colaboratory.intrinsic+json": {
              "type": "string"
            },
            "text/plain": [
              "'GH_CI_EU28_Cocoabeansexports_2017_SankeyinteractiveV3.html'"
            ]
          },
          "metadata": {
            "tags": []
          },
          "execution_count": 28
        }
      ]
    },
    {
      "cell_type": "markdown",
      "metadata": {
        "id": "7eSzjxGBvjx3"
      },
      "source": [
        "## Analysis of beans data\n",
        "Out of the 1,190,114 t exported to EU by GH and CI, 757,293 is processed in the first import country (**64%**), the rest is re-exported (432,821t or 36%), **62%** of these re-exports are destined to countries of the EU-28. \n",
        "\n",
        "7 big players are acting as first import hubs: The Netherlands, Belgium, Germany, France, UK, Italy and Spain. \n",
        "Most of the re-exports are operated by Belgium (**28.5%**), The Netherlands (**27.4%**) and France (**7.2%**). Italy, Spain and the UK process most of the beans imported in country."
      ]
    },
    {
      "cell_type": "markdown",
      "metadata": {
        "id": "AVeuKB69vmLS"
      },
      "source": [
        "## Limitations of visualisation:\n",
        "Re-imports provenance calculated according to proportion of WA beans compared to total imports of origin country.\n",
        "\n",
        "Processed in country -> Similar coeff applied but in reality this should not be the case\n",
        "Different coeff should be applied for processed beans coming from direct imports vs re-imports\n"
      ]
    },
    {
      "cell_type": "markdown",
      "metadata": {
        "id": "V_JUAdUJ8aFU"
      },
      "source": [
        "# Cocoa beans flow - Adjusted"
      ]
    },
    {
      "cell_type": "code",
      "metadata": {
        "id": "Wm5EAH8r8ZrA"
      },
      "source": [
        "beansimports_df_adj = pd.read_csv('Sankey_beans_dfv4.csv')"
      ],
      "execution_count": null,
      "outputs": []
    },
    {
      "cell_type": "code",
      "metadata": {
        "colab": {
          "base_uri": "https://localhost:8080/",
          "height": 789
        },
        "id": "ip1QyPhVvl4b",
        "outputId": "9983c840-7872-4a11-f48e-3e4af6ede90b"
      },
      "source": [
        "data_trace = dict(\n",
        "    type='sankey',\n",
        "    domain = dict(\n",
        "      x =  [0,1],\n",
        "      y =  [0,1]\n",
        "    ),\n",
        "    orientation = \"h\",\n",
        "    valueformat = \".0f\",\n",
        "    node = dict(\n",
        "      pad = 10,\n",
        "      thickness = 20,\n",
        "      line = dict(\n",
        "        color = 'white',\n",
        "        width = 0.5\n",
        "      ),\n",
        "      label =  beanssources_list['Desc'].dropna(axis=0, how='any'),\n",
        "      color = beanssources_list['Color']\n",
        "    ),\n",
        "    link = dict(\n",
        "      source = beansimports_df_adj['Source'].dropna(axis=0, how='any'),\n",
        "      target = beansimports_df_adj['Target'].dropna(axis=0, how='any'),\n",
        "      value = beansimports_df_adj['Value_scaled'].dropna(axis=0, how='any'),\n",
        "      color = beansimports_df_adj['Link Color']\n",
        "  )\n",
        ")\n",
        "\n",
        "layout =  dict(\n",
        "    title = \"Flow of cocoa beans from West Africa to Europe in 2017 (Quantity in tonnes)\",\n",
        "    height = 772,\n",
        "    width = 950,\n",
        "    font = dict(\n",
        "      size = 10\n",
        "    ),    \n",
        ")\n",
        "\n",
        "\n",
        "fig = go.Figure(data=[go.Sankey(data_trace)], layout=layout)\n",
        "fig.show()"
      ],
      "execution_count": null,
      "outputs": [
        {
          "output_type": "display_data",
          "data": {
            "text/html": [
              "<html>\n",
              "<head><meta charset=\"utf-8\" /></head>\n",
              "<body>\n",
              "    <div>\n",
              "            <script src=\"https://cdnjs.cloudflare.com/ajax/libs/mathjax/2.7.5/MathJax.js?config=TeX-AMS-MML_SVG\"></script><script type=\"text/javascript\">if (window.MathJax) {MathJax.Hub.Config({SVG: {font: \"STIX-Web\"}});}</script>\n",
              "                <script type=\"text/javascript\">window.PlotlyConfig = {MathJaxConfig: 'local'};</script>\n",
              "        <script src=\"https://cdn.plot.ly/plotly-latest.min.js\"></script>    \n",
              "            <div id=\"9224b442-a013-4433-a341-0c8b2824741a\" class=\"plotly-graph-div\" style=\"height:772px; width:950px;\"></div>\n",
              "            <script type=\"text/javascript\">\n",
              "                \n",
              "                    window.PLOTLYENV=window.PLOTLYENV || {};\n",
              "                    \n",
              "                if (document.getElementById(\"9224b442-a013-4433-a341-0c8b2824741a\")) {\n",
              "                    Plotly.newPlot(\n",
              "                        '9224b442-a013-4433-a341-0c8b2824741a',\n",
              "                        [{\"domain\": {\"x\": [0, 1], \"y\": [0, 1]}, \"link\": {\"color\": [\"rgba(181,131,141,0.2)\", \"rgba(181,131,141,0.2)\", \"rgba(181,131,141,0.2)\", \"rgba(181,131,141,0.2)\", \"rgba(181,131,141,0.2)\", \"rgba(181,131,141,0.2)\", \"rgba(181,131,141,0.2)\", \"rgba(181,131,141,0.2)\", \"rgba(181,131,141,0.2)\", \"rgba(181,131,141,0.2)\", \"rgba(181,131,141,0.2)\", \"rgba(181,131,141,0.2)\", \"rgba(181,131,141,0.2)\", \"rgba(181,131,141,0.2)\", \"rgba(181,131,141,0.2)\", \"rgba(181,131,141,0.2)\", \"rgba(181,131,141,0.2)\", \"rgba(181,131,141,0.2)\", \"rgba(181,131,141,0.2)\", \"rgba(181,131,141,0.2)\", \"rgba(181,131,141,0.2)\", \"rgba(181,131,141,0.2)\", \"rgba(181,131,141,0.2)\", \"rgba(181,131,141,0.2)\", \"rgba(181,131,141,0.2)\", \"rgba(181,131,141,0.2)\", \"rgba(181,131,141,0.2)\", \"rgba(181,131,141,0.2)\", \"rgba(181,131,141,0.2)\", \"rgba(181,131,141,0.2)\", \"rgba(181,131,141,0.2)\", \"rgba(181,131,141,0.2)\", \"rgba(181,131,141,0.2)\", \"rgba(181,131,141,0.2)\", \"rgba(181,131,141,0.2)\", \"rgba(181,131,141,0.2)\", \"rgba(181,131,141,0.2)\", \"rgba(181,131,141,0.2)\", \"rgba(181,131,141,0.2)\", \"rgba(181,131,141,0.2)\", \"rgba(181,131,141,0.2)\", \"rgba(181,131,141,0.2)\", \"rgba(181,131,141,0.2)\", \"rgba(181,131,141,0.2)\", \"rgba(181,131,141,0.2)\", \"rgba(181,131,141,0.2)\", \"rgba(181,131,141,0.2)\", \"rgba(181,131,141,0.2)\", \"rgba(181,131,141,0.2)\", \"rgba(181,131,141,0.2)\", \"rgba(181,131,141,0.2)\", \"rgba(181,131,141,0.2)\", \"rgba(181,131,141,0.2)\", \"rgba(181,131,141,0.2)\", \"rgba(181,131,141,0.2)\", \"rgba(181,131,141,0.2)\", \"rgba(181,131,141,0.2)\", \"rgba(181,131,141,0.2)\", \"rgba(181,131,141,0.2)\", \"rgba(181,131,141,0.2)\", \"rgba(181,131,141,0.2)\", \"rgba(181,131,141,0.2)\", \"rgba(181,131,141,0.2)\", \"rgba(181,131,141,0.2)\", \"rgba(181,131,141,0.2)\", \"rgba(181,131,141,0.2)\"], \"source\": [8, 8, 8, 8, 8, 8, 8, 8, 8, 8, 1, 1, 1, 1, 1, 1, 1, 1, 6, 6, 6, 6, 6, 6, 6, 6, 5, 5, 5, 5, 5, 5, 5, 5, 0, 0, 0, 0, 0, 0, 0, 0, 0, 0, 2, 2, 2, 2, 2, 2, 2, 2, 2, 2, 3, 5, 6, 7, 8, 9, 10, 11, 23, 13, 14, 25], \"target\": [13, 14, 15, 16, 17, 18, 19, 20, 21, 22, 8, 5, 2, 6, 7, 10, 11, 3, 16, 17, 23, 14, 18, 22, 19, 24, 25, 15, 22, 23, 18, 17, 13, 16, 8, 2, 6, 11, 5, 7, 10, 9, 3, 4, 13, 23, 14, 18, 15, 17, 19, 16, 20, 12, 12, 12, 12, 12, 12, 12, 12, 12, 12, 12, 12, 12], \"value\": [73670.784, 4321.152, 2697.552, 2288.3520000000003, 1991.088, 1980.5279999999998, 1276.704, 875.952, 245.52, 55.44, 112387.0, 37707.0, 32006.0, 26985.0, 17115.0, 14551.0, 14498.0, 160.0, 1454.5439999999999, 1347.024, 855.12, 693.84, 412.272, 187.824, 134.064, 47.376000000000005, 19278.165, 4029.627, 1582.605, 986.5830000000001, 453.495, 196.206, 156.101, 75.274, 412155.0, 204303.0, 123966.0, 57890.0, 50015.0, 47081.0, 35507.0, 2513.0, 1001.0, 274.0, 76573.40400000001, 41235.75, 26707.482000000004, 1165.302, 990.3960000000001, 568.998, 249.44400000000002, 214.02, 76.752, 61303.445999999996, 1152.8, 87305.0, 145525.0, 63691.52, 273930.0, 2479.739, 50081.49, 72120.0, 21534.0, 144844.0, 30880.0, 19207.0]}, \"node\": {\"color\": [\"#fec5bb\", \"#fec89a\", \"#f8961e\", \"#f9c74f\", \"#efea5a\", \"#277da1\", \"#4d908e\", \"#90be6d\", \"#f9c74f\", \"#577590\", \"#f94144\", \"#a3cef1\", \"#b1a7a6\", \"#4d908e\", \"#277da1\", \"#f94144\", \"#577590\", \"#272640\", \"#90be6d\", \"#16db93\", \"#641220\", \"#efea5a\", \"#f8961e\", \"#f9c74f\", \"#373d20\", \"#a3cef1\"], \"label\": [\"C\\u00f4te d'Ivoire\", \"Ghana\", \"Belgium direct imports\", \"Bulgaria direct imports\", \"Estonia direct imports\", \"France direct imports\", \"Germany direct imports\", \"Italy direct imports\", \"Netherlands direct imports\", \"Poland direct imports\", \"Spain direct imports\", \"United Kingdom direct imports\", \"Processed in country\", \"Germany re-imports\", \"France re-imports\", \"Spain re-imports\", \"Poland re-imports\", \"Austria re-imports\", \"Italy re-imports\", \"Greece re-imports\", \"Croatia re-imports\", \"Estonia re-imports\", \"Belgium re-imports\", \"Netherlands re-imports\", \"Denmark re-imports\", \"United Kingdom re-imports\"], \"line\": {\"color\": \"white\", \"width\": 0.5}, \"pad\": 10, \"thickness\": 20}, \"orientation\": \"h\", \"type\": \"sankey\", \"valueformat\": \".0f\"}],\n",
              "                        {\"font\": {\"size\": 10}, \"height\": 772, \"template\": {\"data\": {\"bar\": [{\"error_x\": {\"color\": \"#2a3f5f\"}, \"error_y\": {\"color\": \"#2a3f5f\"}, \"marker\": {\"line\": {\"color\": \"#E5ECF6\", \"width\": 0.5}}, \"type\": \"bar\"}], \"barpolar\": [{\"marker\": {\"line\": {\"color\": \"#E5ECF6\", \"width\": 0.5}}, \"type\": \"barpolar\"}], \"carpet\": [{\"aaxis\": {\"endlinecolor\": \"#2a3f5f\", \"gridcolor\": \"white\", \"linecolor\": \"white\", \"minorgridcolor\": \"white\", \"startlinecolor\": \"#2a3f5f\"}, \"baxis\": {\"endlinecolor\": \"#2a3f5f\", \"gridcolor\": \"white\", \"linecolor\": \"white\", \"minorgridcolor\": \"white\", \"startlinecolor\": \"#2a3f5f\"}, \"type\": \"carpet\"}], \"choropleth\": [{\"colorbar\": {\"outlinewidth\": 0, \"ticks\": \"\"}, \"type\": \"choropleth\"}], \"contour\": [{\"colorbar\": {\"outlinewidth\": 0, \"ticks\": \"\"}, \"colorscale\": [[0.0, \"#0d0887\"], [0.1111111111111111, \"#46039f\"], [0.2222222222222222, \"#7201a8\"], [0.3333333333333333, \"#9c179e\"], [0.4444444444444444, \"#bd3786\"], [0.5555555555555556, \"#d8576b\"], [0.6666666666666666, \"#ed7953\"], [0.7777777777777778, \"#fb9f3a\"], [0.8888888888888888, \"#fdca26\"], [1.0, \"#f0f921\"]], \"type\": \"contour\"}], \"contourcarpet\": [{\"colorbar\": {\"outlinewidth\": 0, \"ticks\": \"\"}, \"type\": \"contourcarpet\"}], \"heatmap\": [{\"colorbar\": {\"outlinewidth\": 0, \"ticks\": \"\"}, \"colorscale\": [[0.0, \"#0d0887\"], [0.1111111111111111, \"#46039f\"], [0.2222222222222222, \"#7201a8\"], [0.3333333333333333, \"#9c179e\"], [0.4444444444444444, \"#bd3786\"], [0.5555555555555556, \"#d8576b\"], [0.6666666666666666, \"#ed7953\"], [0.7777777777777778, \"#fb9f3a\"], [0.8888888888888888, \"#fdca26\"], [1.0, \"#f0f921\"]], \"type\": \"heatmap\"}], \"heatmapgl\": [{\"colorbar\": {\"outlinewidth\": 0, \"ticks\": \"\"}, \"colorscale\": [[0.0, \"#0d0887\"], [0.1111111111111111, \"#46039f\"], [0.2222222222222222, \"#7201a8\"], [0.3333333333333333, \"#9c179e\"], [0.4444444444444444, \"#bd3786\"], [0.5555555555555556, \"#d8576b\"], [0.6666666666666666, \"#ed7953\"], [0.7777777777777778, \"#fb9f3a\"], [0.8888888888888888, \"#fdca26\"], [1.0, \"#f0f921\"]], \"type\": \"heatmapgl\"}], \"histogram\": [{\"marker\": {\"colorbar\": {\"outlinewidth\": 0, \"ticks\": \"\"}}, \"type\": \"histogram\"}], \"histogram2d\": [{\"colorbar\": {\"outlinewidth\": 0, \"ticks\": \"\"}, \"colorscale\": [[0.0, \"#0d0887\"], [0.1111111111111111, \"#46039f\"], [0.2222222222222222, \"#7201a8\"], [0.3333333333333333, \"#9c179e\"], [0.4444444444444444, \"#bd3786\"], [0.5555555555555556, \"#d8576b\"], [0.6666666666666666, \"#ed7953\"], [0.7777777777777778, \"#fb9f3a\"], [0.8888888888888888, \"#fdca26\"], [1.0, \"#f0f921\"]], \"type\": \"histogram2d\"}], \"histogram2dcontour\": [{\"colorbar\": {\"outlinewidth\": 0, \"ticks\": \"\"}, \"colorscale\": [[0.0, \"#0d0887\"], [0.1111111111111111, \"#46039f\"], [0.2222222222222222, \"#7201a8\"], [0.3333333333333333, \"#9c179e\"], [0.4444444444444444, \"#bd3786\"], [0.5555555555555556, \"#d8576b\"], [0.6666666666666666, \"#ed7953\"], [0.7777777777777778, \"#fb9f3a\"], [0.8888888888888888, \"#fdca26\"], [1.0, \"#f0f921\"]], \"type\": \"histogram2dcontour\"}], \"mesh3d\": [{\"colorbar\": {\"outlinewidth\": 0, \"ticks\": \"\"}, \"type\": \"mesh3d\"}], \"parcoords\": [{\"line\": {\"colorbar\": {\"outlinewidth\": 0, \"ticks\": \"\"}}, \"type\": \"parcoords\"}], \"pie\": [{\"automargin\": true, \"type\": \"pie\"}], \"scatter\": [{\"marker\": {\"colorbar\": {\"outlinewidth\": 0, \"ticks\": \"\"}}, \"type\": \"scatter\"}], \"scatter3d\": [{\"line\": {\"colorbar\": {\"outlinewidth\": 0, \"ticks\": \"\"}}, \"marker\": {\"colorbar\": {\"outlinewidth\": 0, \"ticks\": \"\"}}, \"type\": \"scatter3d\"}], \"scattercarpet\": [{\"marker\": {\"colorbar\": {\"outlinewidth\": 0, \"ticks\": \"\"}}, \"type\": \"scattercarpet\"}], \"scattergeo\": [{\"marker\": {\"colorbar\": {\"outlinewidth\": 0, \"ticks\": \"\"}}, \"type\": \"scattergeo\"}], \"scattergl\": [{\"marker\": {\"colorbar\": {\"outlinewidth\": 0, \"ticks\": \"\"}}, \"type\": \"scattergl\"}], \"scattermapbox\": [{\"marker\": {\"colorbar\": {\"outlinewidth\": 0, \"ticks\": \"\"}}, \"type\": \"scattermapbox\"}], \"scatterpolar\": [{\"marker\": {\"colorbar\": {\"outlinewidth\": 0, \"ticks\": \"\"}}, \"type\": \"scatterpolar\"}], \"scatterpolargl\": [{\"marker\": {\"colorbar\": {\"outlinewidth\": 0, \"ticks\": \"\"}}, \"type\": \"scatterpolargl\"}], \"scatterternary\": [{\"marker\": {\"colorbar\": {\"outlinewidth\": 0, \"ticks\": \"\"}}, \"type\": \"scatterternary\"}], \"surface\": [{\"colorbar\": {\"outlinewidth\": 0, \"ticks\": \"\"}, \"colorscale\": [[0.0, \"#0d0887\"], [0.1111111111111111, \"#46039f\"], [0.2222222222222222, \"#7201a8\"], [0.3333333333333333, \"#9c179e\"], [0.4444444444444444, \"#bd3786\"], [0.5555555555555556, \"#d8576b\"], [0.6666666666666666, \"#ed7953\"], [0.7777777777777778, \"#fb9f3a\"], [0.8888888888888888, \"#fdca26\"], [1.0, \"#f0f921\"]], \"type\": \"surface\"}], \"table\": [{\"cells\": {\"fill\": {\"color\": \"#EBF0F8\"}, \"line\": {\"color\": \"white\"}}, \"header\": {\"fill\": {\"color\": \"#C8D4E3\"}, \"line\": {\"color\": \"white\"}}, \"type\": \"table\"}]}, \"layout\": {\"annotationdefaults\": {\"arrowcolor\": \"#2a3f5f\", \"arrowhead\": 0, \"arrowwidth\": 1}, \"coloraxis\": {\"colorbar\": {\"outlinewidth\": 0, \"ticks\": \"\"}}, \"colorscale\": {\"diverging\": [[0, \"#8e0152\"], [0.1, \"#c51b7d\"], [0.2, \"#de77ae\"], [0.3, \"#f1b6da\"], [0.4, \"#fde0ef\"], [0.5, \"#f7f7f7\"], [0.6, \"#e6f5d0\"], [0.7, \"#b8e186\"], [0.8, \"#7fbc41\"], [0.9, \"#4d9221\"], [1, \"#276419\"]], \"sequential\": [[0.0, \"#0d0887\"], [0.1111111111111111, \"#46039f\"], [0.2222222222222222, \"#7201a8\"], [0.3333333333333333, \"#9c179e\"], [0.4444444444444444, \"#bd3786\"], [0.5555555555555556, \"#d8576b\"], [0.6666666666666666, \"#ed7953\"], [0.7777777777777778, \"#fb9f3a\"], [0.8888888888888888, \"#fdca26\"], [1.0, \"#f0f921\"]], \"sequentialminus\": [[0.0, \"#0d0887\"], [0.1111111111111111, \"#46039f\"], [0.2222222222222222, \"#7201a8\"], [0.3333333333333333, \"#9c179e\"], [0.4444444444444444, \"#bd3786\"], [0.5555555555555556, \"#d8576b\"], [0.6666666666666666, \"#ed7953\"], [0.7777777777777778, \"#fb9f3a\"], [0.8888888888888888, \"#fdca26\"], [1.0, \"#f0f921\"]]}, \"colorway\": [\"#636efa\", \"#EF553B\", \"#00cc96\", \"#ab63fa\", \"#FFA15A\", \"#19d3f3\", \"#FF6692\", \"#B6E880\", \"#FF97FF\", \"#FECB52\"], \"font\": {\"color\": \"#2a3f5f\"}, \"geo\": {\"bgcolor\": \"white\", \"lakecolor\": \"white\", \"landcolor\": \"#E5ECF6\", \"showlakes\": true, \"showland\": true, \"subunitcolor\": \"white\"}, \"hoverlabel\": {\"align\": \"left\"}, \"hovermode\": \"closest\", \"mapbox\": {\"style\": \"light\"}, \"paper_bgcolor\": \"white\", \"plot_bgcolor\": \"#E5ECF6\", \"polar\": {\"angularaxis\": {\"gridcolor\": \"white\", \"linecolor\": \"white\", \"ticks\": \"\"}, \"bgcolor\": \"#E5ECF6\", \"radialaxis\": {\"gridcolor\": \"white\", \"linecolor\": \"white\", \"ticks\": \"\"}}, \"scene\": {\"xaxis\": {\"backgroundcolor\": \"#E5ECF6\", \"gridcolor\": \"white\", \"gridwidth\": 2, \"linecolor\": \"white\", \"showbackground\": true, \"ticks\": \"\", \"zerolinecolor\": \"white\"}, \"yaxis\": {\"backgroundcolor\": \"#E5ECF6\", \"gridcolor\": \"white\", \"gridwidth\": 2, \"linecolor\": \"white\", \"showbackground\": true, \"ticks\": \"\", \"zerolinecolor\": \"white\"}, \"zaxis\": {\"backgroundcolor\": \"#E5ECF6\", \"gridcolor\": \"white\", \"gridwidth\": 2, \"linecolor\": \"white\", \"showbackground\": true, \"ticks\": \"\", \"zerolinecolor\": \"white\"}}, \"shapedefaults\": {\"line\": {\"color\": \"#2a3f5f\"}}, \"ternary\": {\"aaxis\": {\"gridcolor\": \"white\", \"linecolor\": \"white\", \"ticks\": \"\"}, \"baxis\": {\"gridcolor\": \"white\", \"linecolor\": \"white\", \"ticks\": \"\"}, \"bgcolor\": \"#E5ECF6\", \"caxis\": {\"gridcolor\": \"white\", \"linecolor\": \"white\", \"ticks\": \"\"}}, \"title\": {\"x\": 0.05}, \"xaxis\": {\"automargin\": true, \"gridcolor\": \"white\", \"linecolor\": \"white\", \"ticks\": \"\", \"title\": {\"standoff\": 15}, \"zerolinecolor\": \"white\", \"zerolinewidth\": 2}, \"yaxis\": {\"automargin\": true, \"gridcolor\": \"white\", \"linecolor\": \"white\", \"ticks\": \"\", \"title\": {\"standoff\": 15}, \"zerolinecolor\": \"white\", \"zerolinewidth\": 2}}}, \"title\": {\"text\": \"Flow of cocoa beans from West Africa to Europe in 2017 (Quantity in tonnes)\"}, \"width\": 950},\n",
              "                        {\"responsive\": true}\n",
              "                    ).then(function(){\n",
              "                            \n",
              "var gd = document.getElementById('9224b442-a013-4433-a341-0c8b2824741a');\n",
              "var x = new MutationObserver(function (mutations, observer) {{\n",
              "        var display = window.getComputedStyle(gd).display;\n",
              "        if (!display || display === 'none') {{\n",
              "            console.log([gd, 'removed!']);\n",
              "            Plotly.purge(gd);\n",
              "            observer.disconnect();\n",
              "        }}\n",
              "}});\n",
              "\n",
              "// Listen for the removal of the full notebook cells\n",
              "var notebookContainer = gd.closest('#notebook-container');\n",
              "if (notebookContainer) {{\n",
              "    x.observe(notebookContainer, {childList: true});\n",
              "}}\n",
              "\n",
              "// Listen for the clearing of the current output cell\n",
              "var outputEl = gd.closest('.output');\n",
              "if (outputEl) {{\n",
              "    x.observe(outputEl, {childList: true});\n",
              "}}\n",
              "\n",
              "                        })\n",
              "                };\n",
              "                \n",
              "            </script>\n",
              "        </div>\n",
              "</body>\n",
              "</html>"
            ]
          },
          "metadata": {
            "tags": []
          }
        }
      ]
    },
    {
      "cell_type": "code",
      "metadata": {
        "colab": {
          "base_uri": "https://localhost:8080/",
          "height": 35
        },
        "id": "Xkshi2gxhC3I",
        "outputId": "d57c4901-7c80-4b2d-e0a6-dbb87e21b6d6"
      },
      "source": [
        "plotly.offline.plot(fig, filename=r'GH_CI_EU28_Cocoabeansexports_2017_SankeyinteractiveV4.html')"
      ],
      "execution_count": null,
      "outputs": [
        {
          "output_type": "execute_result",
          "data": {
            "application/vnd.google.colaboratory.intrinsic+json": {
              "type": "string"
            },
            "text/plain": [
              "'GH_CI_EU28_Cocoabeansexports_2017_SankeyinteractiveV4.html'"
            ]
          },
          "metadata": {
            "tags": []
          },
          "execution_count": 39
        }
      ]
    },
    {
      "cell_type": "markdown",
      "metadata": {
        "id": "t1Wn6QEPf7J6"
      },
      "source": [
        "# Derived commodities"
      ]
    },
    {
      "cell_type": "code",
      "metadata": {
        "id": "af2agzsFMNYx"
      },
      "source": [
        "derivedcom_imports_df = pd.read_csv('Sankey_derived_com_df_notscaled_top.csv')\n",
        "derivedcomsources_list = pd.read_csv('Sankey_derivedcom_sources_top.csv')"
      ],
      "execution_count": null,
      "outputs": []
    },
    {
      "cell_type": "code",
      "metadata": {
        "colab": {
          "base_uri": "https://localhost:8080/",
          "height": 789
        },
        "id": "UOkLhrHUmhVc",
        "outputId": "56afb223-d3e6-4bfd-a0c1-f39a8f072e9f"
      },
      "source": [
        "data_trace = dict(\n",
        "    type='sankey',\n",
        "    domain = dict(\n",
        "      x =  [0,1],\n",
        "      y =  [0,1]\n",
        "    ),\n",
        "    orientation = \"h\",\n",
        "    valueformat = \".0f\",\n",
        "    node = dict(\n",
        "      pad = 10,\n",
        "      thickness = 20,\n",
        "      line = dict(\n",
        "        color = \"white\",\n",
        "        width = 0.5\n",
        "      ),\n",
        "      label =  derivedcomsources_list['Desc'].dropna(axis=0, how='any'),\n",
        "      color = derivedcomsources_list['Color']\n",
        "    ),\n",
        "    link = dict(\n",
        "      source = derivedcom_imports_df['Source'].dropna(axis=0, how='any'),\n",
        "      target = derivedcom_imports_df['Target'].dropna(axis=0, how='any'),\n",
        "      value = derivedcom_imports_df['Value'].dropna(axis=0, how='any'),\n",
        "      color = derivedcom_imports_df['Link Color']\n",
        "  )\n",
        ")\n",
        "\n",
        "layout =  dict(\n",
        "    title = \"Flow of derived commodities from West Africa and within Europe in 2017 (Quantity in tonnes)\",\n",
        "    height = 772,\n",
        "    width = 950,\n",
        "    font = dict(\n",
        "      size = 10\n",
        "    ),    \n",
        ")\n",
        "\n",
        "\n",
        "fig = go.Figure(data=[go.Sankey(data_trace)], layout=layout)\n",
        "fig.show()"
      ],
      "execution_count": null,
      "outputs": [
        {
          "output_type": "display_data",
          "data": {
            "text/html": [
              "<html>\n",
              "<head><meta charset=\"utf-8\" /></head>\n",
              "<body>\n",
              "    <div>\n",
              "            <script src=\"https://cdnjs.cloudflare.com/ajax/libs/mathjax/2.7.5/MathJax.js?config=TeX-AMS-MML_SVG\"></script><script type=\"text/javascript\">if (window.MathJax) {MathJax.Hub.Config({SVG: {font: \"STIX-Web\"}});}</script>\n",
              "                <script type=\"text/javascript\">window.PlotlyConfig = {MathJaxConfig: 'local'};</script>\n",
              "        <script src=\"https://cdn.plot.ly/plotly-latest.min.js\"></script>    \n",
              "            <div id=\"407477f9-95d6-4675-a6c4-cf55b9dc8312\" class=\"plotly-graph-div\" style=\"height:772px; width:950px;\"></div>\n",
              "            <script type=\"text/javascript\">\n",
              "                \n",
              "                    window.PLOTLYENV=window.PLOTLYENV || {};\n",
              "                    \n",
              "                if (document.getElementById(\"407477f9-95d6-4675-a6c4-cf55b9dc8312\")) {\n",
              "                    Plotly.newPlot(\n",
              "                        '407477f9-95d6-4675-a6c4-cf55b9dc8312',\n",
              "                        [{\"domain\": {\"x\": [0, 1], \"y\": [0, 1]}, \"link\": {\"color\": [\"rgba(119, 125, 167, 0.2)\", \"rgba(119, 125, 167, 0.2)\", \"rgba(119, 125, 167, 0.2)\", \"rgba(119, 125, 167, 0.2)\", \"rgba(119, 125, 167, 0.2)\", \"rgba(119, 125, 167, 0.2)\", \"rgba(119, 125, 167, 0.2)\", \"rgba(119, 125, 167, 0.2)\", \"rgba(119, 125, 167, 0.2)\", \"rgba(119, 125, 167, 0.2)\", \"rgba(119, 125, 167, 0.2)\", \"rgba(119, 125, 167, 0.2)\", \"rgba(119, 125, 167, 0.2)\", \"rgba(119, 125, 167, 0.2)\", \"rgba(119, 125, 167, 0.2)\", \"rgba(119, 125, 167, 0.2)\", \"rgba(119, 125, 167, 0.2)\", \"rgba(119, 125, 167, 0.2)\", \"rgba(119, 125, 167, 0.2)\", \"rgba(119, 125, 167, 0.2)\", \"rgba(119, 125, 167, 0.2)\", \"rgba(119, 125, 167, 0.2)\", \"rgba(119, 125, 167, 0.2)\", \"rgba(119, 125, 167, 0.2)\", \"rgba(119, 125, 167, 0.2)\", \"rgba(119, 125, 167, 0.2)\", \"rgba(119, 125, 167, 0.2)\", \"rgba(119, 125, 167, 0.2)\", \"rgba(119, 125, 167, 0.2)\", \"rgba(119, 125, 167, 0.2)\", \"rgba(119, 125, 167, 0.2)\", \"rgba(119, 125, 167, 0.2)\", \"rgba(119, 125, 167, 0.2)\", \"rgba(119, 125, 167, 0.2)\", \"rgba(119, 125, 167, 0.2)\", \"rgba(119, 125, 167, 0.2)\", \"rgba(119, 125, 167, 0.2)\", \"rgba(119, 125, 167, 0.2)\", \"rgba(119, 125, 167, 0.2)\", \"rgba(119, 125, 167, 0.2)\", \"rgba(119, 125, 167, 0.2)\", \"rgba(119, 125, 167, 0.2)\", \"rgba(119, 125, 167, 0.2)\", \"rgba(119, 125, 167, 0.2)\", \"rgba(119, 125, 167, 0.2)\", \"rgba(119, 125, 167, 0.2)\", \"rgba(119, 125, 167, 0.2)\", \"rgba(119, 125, 167, 0.2)\", \"rgba(254, 141, 133, 0.2)\", \"rgba(254, 141, 133, 0.2)\", \"rgba(254, 141, 133, 0.2)\", \"rgba(254, 141, 133, 0.2)\", \"rgba(254, 141, 133, 0.2)\", \"rgba(254, 141, 133, 0.2)\", \"rgba(254, 141, 133, 0.2)\", \"rgba(254, 141, 133, 0.2)\", \"rgba(254, 141, 133, 0.2)\", \"rgba(254, 141, 133, 0.2)\", \"rgba(254, 141, 133, 0.2)\", \"rgba(254, 141, 133, 0.2)\", \"rgba(254, 141, 133, 0.2)\", \"rgba(254, 141, 133, 0.2)\", \"rgba(254, 141, 133, 0.2)\", \"rgba(254, 141, 133, 0.2)\", \"rgba(254, 141, 133, 0.2)\", \"rgba(254, 141, 133, 0.2)\", \"rgba(254, 141, 133, 0.2)\", \"rgba(254, 141, 133, 0.2)\", \"rgba(254, 141, 133, 0.2)\", \"rgba(254, 141, 133, 0.2)\", \"rgba(254, 141, 133, 0.2)\", \"rgba(254, 141, 133, 0.2)\", \"rgba(254, 141, 133, 0.2)\", \"rgba(254, 141, 133, 0.2)\", \"rgba(254, 141, 133, 0.2)\", \"rgba(254, 141, 133, 0.2)\", \"rgba(254, 141, 133, 0.2)\", \"rgba(254, 141, 133, 0.2)\", \"rgba(254, 141, 133, 0.2)\", \"rgba(254, 141, 133, 0.2)\", \"rgba(254, 141, 133, 0.2)\", \"rgba(254, 141, 133, 0.2)\", \"rgba(254, 141, 133, 0.2)\", \"rgba(254, 141, 133, 0.2)\", \"rgba(254, 141, 133, 0.2)\", \"rgba(254, 141, 133, 0.2)\", \"rgba(254, 141, 133, 0.2)\", \"rgba(254, 141, 133, 0.2)\", \"rgba(254, 141, 133, 0.2)\", \"rgba(254, 141, 133, 0.2)\", \"rgba(254, 141, 133, 0.2)\", \"rgba(254, 141, 133, 0.2)\", \"rgba(254, 141, 133, 0.2)\", \"rgba(254, 141, 133, 0.2)\", \"rgba(254, 141, 133, 0.2)\", \"rgba(254, 141, 133, 0.2)\", \"rgba(254, 141, 133, 0.2)\", \"rgba(254, 141, 133, 0.2)\", \"rgba(254, 141, 133, 0.2)\", \"rgba(254, 141, 133, 0.2)\", \"rgba(254, 141, 133, 0.2)\", \"rgba(254, 141, 133, 0.2)\", \"rgba(254, 141, 133, 0.2)\", \"rgba(254, 141, 133, 0.2)\", \"rgba(254, 141, 133, 0.2)\", \"rgba(254, 141, 133, 0.2)\", \"rgba(254, 141, 133, 0.2)\", \"rgba(254, 141, 133, 0.2)\", \"rgba(254, 141, 133, 0.2)\", \"rgba(254, 141, 133, 0.2)\", \"rgba(254, 141, 133, 0.2)\", \"rgba(148, 201, 169, 0.2)\", \"rgba(148, 201, 169, 0.2)\", \"rgba(148, 201, 169, 0.2)\", \"rgba(148, 201, 169, 0.2)\", \"rgba(148, 201, 169, 0.2)\", \"rgba(148, 201, 169, 0.2)\", \"rgba(148, 201, 169, 0.2)\", \"rgba(148, 201, 169, 0.2)\", \"rgba(148, 201, 169, 0.2)\", \"rgba(148, 201, 169, 0.2)\", \"rgba(148, 201, 169, 0.2)\", \"rgba(148, 201, 169, 0.2)\", \"rgba(148, 201, 169, 0.2)\", \"rgba(148, 201, 169, 0.2)\", \"rgba(148, 201, 169, 0.2)\", \"rgba(148, 201, 169, 0.2)\", \"rgba(148, 201, 169, 0.2)\", \"rgba(148, 201, 169, 0.2)\", \"rgba(148, 201, 169, 0.2)\", \"rgba(148, 201, 169, 0.2)\", \"rgba(148, 201, 169, 0.2)\", \"rgba(148, 201, 169, 0.2)\", \"rgba(148, 201, 169, 0.2)\", \"rgba(148, 201, 169, 0.2)\", \"rgba(148, 201, 169, 0.2)\", \"rgba(148, 201, 169, 0.2)\", \"rgba(148, 201, 169, 0.2)\", \"rgba(148, 201, 169, 0.2)\", \"rgba(148, 201, 169, 0.2)\", \"rgba(148, 201, 169, 0.2)\", \"rgba(148, 201, 169, 0.2)\", \"rgba(148, 201, 169, 0.2)\", \"rgba(148, 201, 169, 0.2)\", \"rgba(148, 201, 169, 0.2)\", \"rgba(148, 201, 169, 0.2)\", \"rgba(148, 201, 169, 0.2)\", \"rgba(148, 201, 169, 0.2)\", \"rgba(148, 201, 169, 0.2)\", \"rgba(148, 201, 169, 0.2)\", \"rgba(148, 201, 169, 0.2)\", \"rgba(148, 201, 169, 0.2)\", \"rgba(148, 201, 169, 0.2)\", \"rgba(148, 201, 169, 0.2)\", \"rgba(148, 201, 169, 0.2)\", \"rgba(148, 201, 169, 0.2)\", \"rgba(148, 201, 169, 0.2)\", \"rgba(148, 201, 169, 0.2)\", \"rgba(148, 201, 169, 0.2)\", \"rgba(148, 201, 169, 0.2)\", \"rgba(148, 201, 169, 0.2)\", \"rgba(148, 201, 169, 0.2)\", \"rgba(148, 201, 169, 0.2)\", \"rgba(148, 201, 169, 0.2)\", \"rgba(148, 201, 169, 0.2)\", \"rgba(148, 201, 169, 0.2)\", \"rgba(148, 201, 169, 0.2)\", \"rgba(148, 201, 169, 0.2)\", \"rgba(148, 201, 169, 0.2)\", \"rgba(148, 201, 169, 0.2)\", \"rgba(148, 201, 169, 0.2)\", \"rgba(148, 201, 169, 0.2)\", \"rgba(148, 201, 169, 0.2)\", \"rgba(148, 201, 169, 0.2)\", \"rgba(148, 201, 169, 0.2)\", \"rgba(148, 201, 169, 0.2)\", \"rgba(148, 201, 169, 0.2)\", \"rgba(148, 201, 169, 0.2)\"], \"source\": [0, 1, 3, 7, 0, 1, 0, 10, 3, 4, 1, 9, 4, 4, 7, 0, 0, 0, 0, 9, 8, 0, 13, 8, 0, 8, 9, 8, 8, 1, 13, 0, 13, 1, 0, 1, 1, 4, 0, 0, 4, 4, 4, 8, 13, 0, 3, 0, 1, 0, 6, 1, 0, 3, 3, 4, 11, 7, 8, 8, 0, 11, 12, 3, 8, 4, 13, 0, 0, 15, 13, 3, 13, 8, 8, 13, 13, 18, 19, 4, 0, 6, 5, 4, 4, 1, 1, 13, 1, 1, 1, 0, 8, 0, 0, 13, 4, 6, 0, 4, 9, 7, 10, 3, 8, 1, 0, 11, 16, 17, 14, 2, 5, 5, 0, 6, 8, 9, 3, 4, 7, 0, 1, 0, 1, 0, 7, 7, 8, 7, 7, 0, 5, 10, 0, 1, 3, 7, 4, 0, 0, 14, 13, 13, 11, 13, 8, 7, 8, 0, 4, 1, 1, 0, 1, 8, 8, 4, 0, 0, 0, 3, 1, 1, 1, 1, 0, 13, 0, 13, 4, 0, 6, 10, 0, 4, 3, 1], \"target\": [20, 23, 24, 24, 31, 21, 25, 32, 26, 38, 24, 30, 31, 32, 26, 37, 29, 28, 40, 33, 21, 23, 21, 30, 27, 26, 41, 32, 38, 30, 24, 38, 26, 38, 32, 32, 33, 26, 24, 21, 21, 24, 30, 33, 30, 33, 22, 26, 21, 25, 26, 28, 29, 26, 32, 31, 32, 24, 30, 39, 28, 29, 22, 27, 38, 21, 29, 21, 40, 22, 26, 24, 21, 32, 33, 32, 31, 22, 22, 33, 38, 24, 22, 26, 32, 30, 38, 24, 24, 32, 33, 32, 26, 24, 26, 30, 24, 22, 33, 30, 22, 22, 22, 22, 22, 22, 22, 22, 22, 22, 22, 22, 22, 27, 20, 30, 32, 33, 21, 32, 34, 29, 35, 23, 36, 37, 26, 30, 21, 21, 33, 40, 26, 24, 35, 40, 24, 24, 33, 27, 25, 22, 29, 33, 22, 26, 30, 38, 26, 36, 24, 31, 33, 31, 21, 38, 33, 26, 21, 32, 33, 30, 30, 38, 32, 24, 38, 31, 24, 30, 30, 22, 22, 22, 26, 31, 22, 22], \"value\": [1021, 1038, 1040, 1192, 1210, 1376, 1507, 1587, 1631, 1703, 1817, 1924, 2271, 2551, 2598, 3064, 3265, 3557, 3783, 3999, 4075, 4160, 4422, 5162, 5620, 6682, 7384, 7719, 7892, 8052, 8509, 8977, 8978, 9222, 11097, 12315, 14314, 14329, 19249, 19746, 20054, 20295, 23041, 23160, 26915, 52702, 81534, 87068, 1024, 1047, 1162, 1180, 1183, 1368, 1568, 1810, 2062, 2161, 2273, 2311, 2346, 2421, 2686, 2861, 2980, 3183, 3206, 3708, 3716, 3813, 3904, 4088, 4130, 4341, 4632, 5062, 5557, 5736, 6130, 6714, 7260, 7745, 7882, 8043, 8231, 8659, 8930, 9170, 10916, 11623, 11747, 14332, 14984, 18097, 24484, 26083, 38154, 45866, 60332, 76637, 97636, 101571, 104989, 130261, 166805, 338611, 361702, 2432, 3830, 3932, 4512, 1035, 1096, 1168, 1198, 1210, 1302, 1335, 1355, 1400, 1444, 1497, 1525, 1607, 1629, 1674, 1745, 1979, 2234, 2265, 2340, 2349, 2408, 2476, 2534, 2778, 2821, 3160, 3234, 3275, 3295, 3519, 3555, 3561, 3620, 3805, 3886, 4034, 4342, 4473, 4486, 4557, 4572, 4623, 5039, 5344, 6111, 7023, 7544, 8269, 8545, 8585, 8927, 10244, 10662, 10996, 14506, 14614, 16456, 22337, 22953, 32128, 33919, 40426, 43509, 45334, 82245, 120862]}, \"node\": {\"color\": [\"#f9c74f\", \"#4d908e\", \"#B7B7A4\", \"#f8961e\", \"#fec5bb\", \"#272640\", \"#577590\", \"#f94144\", \"#277da1\", \"#a3cef1\", \"#90be6d\", \"#B7B7A4\", \"#373d20\", \"#fec89a\", \"#641220\", \"#B7B7A4\", \"#B7B7A4\", \"#B7B7A4\", \"#16db93\", \"#f9c74f\", \"#373d20\", \"#a3cef1\", \"#b1a7a6\", \"#272640\", \"#277da1\", \"#16db93\", \"#4d908e\", \"#B7B7A4\", \"#B7B7A4\", \"#f9c74f\", \"#f9c74f\", \"#f94144\", \"#577590\", \"#f8961e\", \"#efea5a\", \"#B7B7A4\", \"#B7B7A4\", \"#B7B7A4\", \"#90be6d\", \"#641220\", \"#B7B7A4\", \"#B7B7A4\", \"#B7B7A4\", \"#B7B7A4\"], \"label\": [\"Netherlands\", \"Germany\", \"Ireland\", \"Belgium\", \"C\\u00f4te d'Ivoire\", \"Austria\", \"Poland\", \"Spain\", \"France\", \"United Kingdom of Great Britain and Northern Ireland\", \"Italy\", \"Slovakia\", \"Denmark\", \"Ghana\", \"Croatia\", \"Sweden\", \"Czechia\", \"Finland\", \"Greece\", \"Bulgaria\", \"Denmark imports\", \"United Kingdom of Great Britain and Northern Ireland imports\", \"Processed\", \"Austria imports\", \"France imports\", \"Greece imports\", \"Germany imports\", \"Sweden imports\", \"Finland imports\", \"Bulgaria imports\", \"Netherlands imports\", \"Spain imports\", \"Poland imports\", \"Belgium imports\", \"Estonia imports\", \"Romania imports\", \"Hungary imports\", \"Slovakia imports\", \"Italy imports\", \"Croatia imports\", \"Czechia imports\", \"Ireland imports\", \"Portugal\", \"Portugal imports\"], \"line\": {\"color\": \"white\", \"width\": 0.5}, \"pad\": 10, \"thickness\": 20}, \"orientation\": \"h\", \"type\": \"sankey\", \"valueformat\": \".0f\"}],\n",
              "                        {\"font\": {\"size\": 10}, \"height\": 772, \"template\": {\"data\": {\"bar\": [{\"error_x\": {\"color\": \"#2a3f5f\"}, \"error_y\": {\"color\": \"#2a3f5f\"}, \"marker\": {\"line\": {\"color\": \"#E5ECF6\", \"width\": 0.5}}, \"type\": \"bar\"}], \"barpolar\": [{\"marker\": {\"line\": {\"color\": \"#E5ECF6\", \"width\": 0.5}}, \"type\": \"barpolar\"}], \"carpet\": [{\"aaxis\": {\"endlinecolor\": \"#2a3f5f\", \"gridcolor\": \"white\", \"linecolor\": \"white\", \"minorgridcolor\": \"white\", \"startlinecolor\": \"#2a3f5f\"}, \"baxis\": {\"endlinecolor\": \"#2a3f5f\", \"gridcolor\": \"white\", \"linecolor\": \"white\", \"minorgridcolor\": \"white\", \"startlinecolor\": \"#2a3f5f\"}, \"type\": \"carpet\"}], \"choropleth\": [{\"colorbar\": {\"outlinewidth\": 0, \"ticks\": \"\"}, \"type\": \"choropleth\"}], \"contour\": [{\"colorbar\": {\"outlinewidth\": 0, \"ticks\": \"\"}, \"colorscale\": [[0.0, \"#0d0887\"], [0.1111111111111111, \"#46039f\"], [0.2222222222222222, \"#7201a8\"], [0.3333333333333333, \"#9c179e\"], [0.4444444444444444, \"#bd3786\"], [0.5555555555555556, \"#d8576b\"], [0.6666666666666666, \"#ed7953\"], [0.7777777777777778, \"#fb9f3a\"], [0.8888888888888888, \"#fdca26\"], [1.0, \"#f0f921\"]], \"type\": \"contour\"}], \"contourcarpet\": [{\"colorbar\": {\"outlinewidth\": 0, \"ticks\": \"\"}, \"type\": \"contourcarpet\"}], \"heatmap\": [{\"colorbar\": {\"outlinewidth\": 0, \"ticks\": \"\"}, \"colorscale\": [[0.0, \"#0d0887\"], [0.1111111111111111, \"#46039f\"], [0.2222222222222222, \"#7201a8\"], [0.3333333333333333, \"#9c179e\"], [0.4444444444444444, \"#bd3786\"], [0.5555555555555556, \"#d8576b\"], [0.6666666666666666, \"#ed7953\"], [0.7777777777777778, \"#fb9f3a\"], [0.8888888888888888, \"#fdca26\"], [1.0, \"#f0f921\"]], \"type\": \"heatmap\"}], \"heatmapgl\": [{\"colorbar\": {\"outlinewidth\": 0, \"ticks\": \"\"}, \"colorscale\": [[0.0, \"#0d0887\"], [0.1111111111111111, \"#46039f\"], [0.2222222222222222, \"#7201a8\"], [0.3333333333333333, \"#9c179e\"], [0.4444444444444444, \"#bd3786\"], [0.5555555555555556, \"#d8576b\"], [0.6666666666666666, \"#ed7953\"], [0.7777777777777778, \"#fb9f3a\"], [0.8888888888888888, \"#fdca26\"], [1.0, \"#f0f921\"]], \"type\": \"heatmapgl\"}], \"histogram\": [{\"marker\": {\"colorbar\": {\"outlinewidth\": 0, \"ticks\": \"\"}}, \"type\": \"histogram\"}], \"histogram2d\": [{\"colorbar\": {\"outlinewidth\": 0, \"ticks\": \"\"}, \"colorscale\": [[0.0, \"#0d0887\"], [0.1111111111111111, \"#46039f\"], [0.2222222222222222, \"#7201a8\"], [0.3333333333333333, \"#9c179e\"], [0.4444444444444444, \"#bd3786\"], [0.5555555555555556, \"#d8576b\"], [0.6666666666666666, \"#ed7953\"], [0.7777777777777778, \"#fb9f3a\"], [0.8888888888888888, \"#fdca26\"], [1.0, \"#f0f921\"]], \"type\": \"histogram2d\"}], \"histogram2dcontour\": [{\"colorbar\": {\"outlinewidth\": 0, \"ticks\": \"\"}, \"colorscale\": [[0.0, \"#0d0887\"], [0.1111111111111111, \"#46039f\"], [0.2222222222222222, \"#7201a8\"], [0.3333333333333333, \"#9c179e\"], [0.4444444444444444, \"#bd3786\"], [0.5555555555555556, \"#d8576b\"], [0.6666666666666666, \"#ed7953\"], [0.7777777777777778, \"#fb9f3a\"], [0.8888888888888888, \"#fdca26\"], [1.0, \"#f0f921\"]], \"type\": \"histogram2dcontour\"}], \"mesh3d\": [{\"colorbar\": {\"outlinewidth\": 0, \"ticks\": \"\"}, \"type\": \"mesh3d\"}], \"parcoords\": [{\"line\": {\"colorbar\": {\"outlinewidth\": 0, \"ticks\": \"\"}}, \"type\": \"parcoords\"}], \"pie\": [{\"automargin\": true, \"type\": \"pie\"}], \"scatter\": [{\"marker\": {\"colorbar\": {\"outlinewidth\": 0, \"ticks\": \"\"}}, \"type\": \"scatter\"}], \"scatter3d\": [{\"line\": {\"colorbar\": {\"outlinewidth\": 0, \"ticks\": \"\"}}, \"marker\": {\"colorbar\": {\"outlinewidth\": 0, \"ticks\": \"\"}}, \"type\": \"scatter3d\"}], \"scattercarpet\": [{\"marker\": {\"colorbar\": {\"outlinewidth\": 0, \"ticks\": \"\"}}, \"type\": \"scattercarpet\"}], \"scattergeo\": [{\"marker\": {\"colorbar\": {\"outlinewidth\": 0, \"ticks\": \"\"}}, \"type\": \"scattergeo\"}], \"scattergl\": [{\"marker\": {\"colorbar\": {\"outlinewidth\": 0, \"ticks\": \"\"}}, \"type\": \"scattergl\"}], \"scattermapbox\": [{\"marker\": {\"colorbar\": {\"outlinewidth\": 0, \"ticks\": \"\"}}, \"type\": \"scattermapbox\"}], \"scatterpolar\": [{\"marker\": {\"colorbar\": {\"outlinewidth\": 0, \"ticks\": \"\"}}, \"type\": \"scatterpolar\"}], \"scatterpolargl\": [{\"marker\": {\"colorbar\": {\"outlinewidth\": 0, \"ticks\": \"\"}}, \"type\": \"scatterpolargl\"}], \"scatterternary\": [{\"marker\": {\"colorbar\": {\"outlinewidth\": 0, \"ticks\": \"\"}}, \"type\": \"scatterternary\"}], \"surface\": [{\"colorbar\": {\"outlinewidth\": 0, \"ticks\": \"\"}, \"colorscale\": [[0.0, \"#0d0887\"], [0.1111111111111111, \"#46039f\"], [0.2222222222222222, \"#7201a8\"], [0.3333333333333333, \"#9c179e\"], [0.4444444444444444, \"#bd3786\"], [0.5555555555555556, \"#d8576b\"], [0.6666666666666666, \"#ed7953\"], [0.7777777777777778, \"#fb9f3a\"], [0.8888888888888888, \"#fdca26\"], [1.0, \"#f0f921\"]], \"type\": \"surface\"}], \"table\": [{\"cells\": {\"fill\": {\"color\": \"#EBF0F8\"}, \"line\": {\"color\": \"white\"}}, \"header\": {\"fill\": {\"color\": \"#C8D4E3\"}, \"line\": {\"color\": \"white\"}}, \"type\": \"table\"}]}, \"layout\": {\"annotationdefaults\": {\"arrowcolor\": \"#2a3f5f\", \"arrowhead\": 0, \"arrowwidth\": 1}, \"coloraxis\": {\"colorbar\": {\"outlinewidth\": 0, \"ticks\": \"\"}}, \"colorscale\": {\"diverging\": [[0, \"#8e0152\"], [0.1, \"#c51b7d\"], [0.2, \"#de77ae\"], [0.3, \"#f1b6da\"], [0.4, \"#fde0ef\"], [0.5, \"#f7f7f7\"], [0.6, \"#e6f5d0\"], [0.7, \"#b8e186\"], [0.8, \"#7fbc41\"], [0.9, \"#4d9221\"], [1, \"#276419\"]], \"sequential\": [[0.0, \"#0d0887\"], [0.1111111111111111, \"#46039f\"], [0.2222222222222222, \"#7201a8\"], [0.3333333333333333, \"#9c179e\"], [0.4444444444444444, \"#bd3786\"], [0.5555555555555556, \"#d8576b\"], [0.6666666666666666, \"#ed7953\"], [0.7777777777777778, \"#fb9f3a\"], [0.8888888888888888, \"#fdca26\"], [1.0, \"#f0f921\"]], \"sequentialminus\": [[0.0, \"#0d0887\"], [0.1111111111111111, \"#46039f\"], [0.2222222222222222, \"#7201a8\"], [0.3333333333333333, \"#9c179e\"], [0.4444444444444444, \"#bd3786\"], [0.5555555555555556, \"#d8576b\"], [0.6666666666666666, \"#ed7953\"], [0.7777777777777778, \"#fb9f3a\"], [0.8888888888888888, \"#fdca26\"], [1.0, \"#f0f921\"]]}, \"colorway\": [\"#636efa\", \"#EF553B\", \"#00cc96\", \"#ab63fa\", \"#FFA15A\", \"#19d3f3\", \"#FF6692\", \"#B6E880\", \"#FF97FF\", \"#FECB52\"], \"font\": {\"color\": \"#2a3f5f\"}, \"geo\": {\"bgcolor\": \"white\", \"lakecolor\": \"white\", \"landcolor\": \"#E5ECF6\", \"showlakes\": true, \"showland\": true, \"subunitcolor\": \"white\"}, \"hoverlabel\": {\"align\": \"left\"}, \"hovermode\": \"closest\", \"mapbox\": {\"style\": \"light\"}, \"paper_bgcolor\": \"white\", \"plot_bgcolor\": \"#E5ECF6\", \"polar\": {\"angularaxis\": {\"gridcolor\": \"white\", \"linecolor\": \"white\", \"ticks\": \"\"}, \"bgcolor\": \"#E5ECF6\", \"radialaxis\": {\"gridcolor\": \"white\", \"linecolor\": \"white\", \"ticks\": \"\"}}, \"scene\": {\"xaxis\": {\"backgroundcolor\": \"#E5ECF6\", \"gridcolor\": \"white\", \"gridwidth\": 2, \"linecolor\": \"white\", \"showbackground\": true, \"ticks\": \"\", \"zerolinecolor\": \"white\"}, \"yaxis\": {\"backgroundcolor\": \"#E5ECF6\", \"gridcolor\": \"white\", \"gridwidth\": 2, \"linecolor\": \"white\", \"showbackground\": true, \"ticks\": \"\", \"zerolinecolor\": \"white\"}, \"zaxis\": {\"backgroundcolor\": \"#E5ECF6\", \"gridcolor\": \"white\", \"gridwidth\": 2, \"linecolor\": \"white\", \"showbackground\": true, \"ticks\": \"\", \"zerolinecolor\": \"white\"}}, \"shapedefaults\": {\"line\": {\"color\": \"#2a3f5f\"}}, \"ternary\": {\"aaxis\": {\"gridcolor\": \"white\", \"linecolor\": \"white\", \"ticks\": \"\"}, \"baxis\": {\"gridcolor\": \"white\", \"linecolor\": \"white\", \"ticks\": \"\"}, \"bgcolor\": \"#E5ECF6\", \"caxis\": {\"gridcolor\": \"white\", \"linecolor\": \"white\", \"ticks\": \"\"}}, \"title\": {\"x\": 0.05}, \"xaxis\": {\"automargin\": true, \"gridcolor\": \"white\", \"linecolor\": \"white\", \"ticks\": \"\", \"title\": {\"standoff\": 15}, \"zerolinecolor\": \"white\", \"zerolinewidth\": 2}, \"yaxis\": {\"automargin\": true, \"gridcolor\": \"white\", \"linecolor\": \"white\", \"ticks\": \"\", \"title\": {\"standoff\": 15}, \"zerolinecolor\": \"white\", \"zerolinewidth\": 2}}}, \"title\": {\"text\": \"Flow of derived commodities from West Africa and within Europe in 2017 (Quantity in tonnes)\"}, \"width\": 950},\n",
              "                        {\"responsive\": true}\n",
              "                    ).then(function(){\n",
              "                            \n",
              "var gd = document.getElementById('407477f9-95d6-4675-a6c4-cf55b9dc8312');\n",
              "var x = new MutationObserver(function (mutations, observer) {{\n",
              "        var display = window.getComputedStyle(gd).display;\n",
              "        if (!display || display === 'none') {{\n",
              "            console.log([gd, 'removed!']);\n",
              "            Plotly.purge(gd);\n",
              "            observer.disconnect();\n",
              "        }}\n",
              "}});\n",
              "\n",
              "// Listen for the removal of the full notebook cells\n",
              "var notebookContainer = gd.closest('#notebook-container');\n",
              "if (notebookContainer) {{\n",
              "    x.observe(notebookContainer, {childList: true});\n",
              "}}\n",
              "\n",
              "// Listen for the clearing of the current output cell\n",
              "var outputEl = gd.closest('.output');\n",
              "if (outputEl) {{\n",
              "    x.observe(outputEl, {childList: true});\n",
              "}}\n",
              "\n",
              "                        })\n",
              "                };\n",
              "                \n",
              "            </script>\n",
              "        </div>\n",
              "</body>\n",
              "</html>"
            ]
          },
          "metadata": {
            "tags": []
          }
        }
      ]
    },
    {
      "cell_type": "code",
      "metadata": {
        "colab": {
          "base_uri": "https://localhost:8080/",
          "height": 35
        },
        "id": "utr5Tx1zuipP",
        "outputId": "fb131f1d-6e5d-4135-f4d2-ff732536ec57"
      },
      "source": [
        "plotly.offline.plot(fig, filename=r'GH_CI_EU28_derivedcommodities_2017_Sankeyinteractive.html')"
      ],
      "execution_count": null,
      "outputs": [
        {
          "output_type": "execute_result",
          "data": {
            "application/vnd.google.colaboratory.intrinsic+json": {
              "type": "string"
            },
            "text/plain": [
              "'GH_CI_EU28_derivedcommodities_2017_Sankeyinteractive.html'"
            ]
          },
          "metadata": {
            "tags": []
          },
          "execution_count": 37
        }
      ]
    },
    {
      "cell_type": "markdown",
      "metadata": {
        "id": "nVga-f6sujJo"
      },
      "source": [
        "## Other color scheme / test"
      ]
    },
    {
      "cell_type": "code",
      "metadata": {
        "id": "vKHke-_Cta0b"
      },
      "source": [
        "derivedcom_imports_df2 = pd.read_csv('Sankey_derived_com_df_notscaled_top2.csv')\n",
        "derivedcomsources_list = pd.read_csv('Sankey_derivedcom_sources_top.csv')"
      ],
      "execution_count": null,
      "outputs": []
    },
    {
      "cell_type": "code",
      "metadata": {
        "colab": {
          "base_uri": "https://localhost:8080/",
          "height": 789
        },
        "id": "F87r6OUTtdRV",
        "outputId": "46400a08-de57-4d90-c973-ed6643fd940c"
      },
      "source": [
        "data_trace = dict(\n",
        "    type='sankey',\n",
        "    domain = dict(\n",
        "      x =  [0,1],\n",
        "      y =  [0,1]\n",
        "    ),\n",
        "    orientation = \"h\",\n",
        "    valueformat = \".0f\",\n",
        "    node = dict(\n",
        "      pad = 10,\n",
        "      thickness = 20,\n",
        "      line = dict(\n",
        "        color = \"white\",\n",
        "        width = 0.5\n",
        "      ),\n",
        "      label =  derivedcomsources_list['Desc'].dropna(axis=0, how='any'),\n",
        "      color = 'whitesmoke'\n",
        "    ),\n",
        "    link = dict(\n",
        "      source = derivedcom_imports_df2['Source'].dropna(axis=0, how='any'),\n",
        "      target = derivedcom_imports_df2['Target'].dropna(axis=0, how='any'),\n",
        "      value = derivedcom_imports_df2['Value'].dropna(axis=0, how='any'),\n",
        "      color = derivedcom_imports_df2['Link Color']\n",
        "  )\n",
        ")\n",
        "\n",
        "layout =  dict(\n",
        "    title = \"Flow of derived commodities from West Africa and within Europe in 2017 (Quantity in tonnes)\",\n",
        "    height = 772,\n",
        "    width = 950,\n",
        "    font = dict(\n",
        "      size = 10\n",
        "    ),    \n",
        ")\n",
        "\n",
        "\n",
        "fig = go.Figure(data=[go.Sankey(data_trace)], layout=layout)\n",
        "fig.show()"
      ],
      "execution_count": null,
      "outputs": [
        {
          "output_type": "display_data",
          "data": {
            "text/html": [
              "<html>\n",
              "<head><meta charset=\"utf-8\" /></head>\n",
              "<body>\n",
              "    <div>\n",
              "            <script src=\"https://cdnjs.cloudflare.com/ajax/libs/mathjax/2.7.5/MathJax.js?config=TeX-AMS-MML_SVG\"></script><script type=\"text/javascript\">if (window.MathJax) {MathJax.Hub.Config({SVG: {font: \"STIX-Web\"}});}</script>\n",
              "                <script type=\"text/javascript\">window.PlotlyConfig = {MathJaxConfig: 'local'};</script>\n",
              "        <script src=\"https://cdn.plot.ly/plotly-latest.min.js\"></script>    \n",
              "            <div id=\"6093549d-1311-4b13-a26d-2a25be3400d3\" class=\"plotly-graph-div\" style=\"height:772px; width:950px;\"></div>\n",
              "            <script type=\"text/javascript\">\n",
              "                \n",
              "                    window.PLOTLYENV=window.PLOTLYENV || {};\n",
              "                    \n",
              "                if (document.getElementById(\"6093549d-1311-4b13-a26d-2a25be3400d3\")) {\n",
              "                    Plotly.newPlot(\n",
              "                        '6093549d-1311-4b13-a26d-2a25be3400d3',\n",
              "                        [{\"domain\": {\"x\": [0, 1], \"y\": [0, 1]}, \"link\": {\"color\": [\"rgba(180, 120, 24, 0.6)\", \"rgba(104, 104, 222, 0.4)\", \"rgba(104, 104, 222, 0.4)\", \"rgba(180, 120, 24, 0.6)\", \"rgba(180, 120, 24, 0.6)\", \"rgba(104, 104, 222, 0.4)\", \"rgba(207, 92, 54, 0.2)\", \"rgba(104, 104, 222, 0.4)\", \"rgba(207, 92, 54, 0.2)\", \"rgba(104, 104, 222, 0.4)\", \"rgba(104, 104, 222, 0.4)\", \"rgba(180, 120, 24, 0.6)\", \"rgba(207, 92, 54, 0.2)\", \"rgba(207, 92, 54, 0.2)\", \"rgba(180, 120, 24, 0.6)\", \"rgba(207, 92, 54, 0.2)\", \"rgba(207, 92, 54, 0.2)\", \"rgba(207, 92, 54, 0.2)\", \"rgba(104, 104, 222, 0.4)\", \"rgba(180, 120, 24, 0.6)\", \"rgba(207, 92, 54, 0.2)\", \"rgba(207, 92, 54, 0.2)\", \"rgba(207, 92, 54, 0.2)\", \"rgba(180, 120, 24, 0.6)\", \"rgba(207, 92, 54, 0.2)\", \"rgba(104, 104, 222, 0.4)\", \"rgba(180, 120, 24, 0.6)\", \"rgba(207, 92, 54, 0.2)\", \"rgba(207, 92, 54, 0.2)\", \"rgba(180, 120, 24, 0.6)\", \"rgba(207, 92, 54, 0.2)\", \"rgba(180, 120, 24, 0.6)\", \"rgba(207, 92, 54, 0.2)\", \"rgba(104, 104, 222, 0.4)\", \"rgba(180, 120, 24, 0.6)\", \"rgba(180, 120, 24, 0.6)\", \"rgba(207, 92, 54, 0.2)\", \"rgba(104, 104, 222, 0.4)\", \"rgba(104, 104, 222, 0.4)\", \"rgba(207, 92, 54, 0.2)\", \"rgba(207, 92, 54, 0.2)\", \"rgba(180, 120, 24, 0.6)\", \"rgba(104, 104, 222, 0.4)\", \"rgba(104, 104, 222, 0.4)\", \"rgba(207, 92, 54, 0.2)\", \"rgba(104, 104, 222, 0.4)\", \"rgba(207, 92, 54, 0.2)\", \"rgba(207, 92, 54, 0.2)\", \"rgba(104, 104, 222, 0.4)\", \"rgba(207, 92, 54, 0.2)\", \"rgba(207, 92, 54, 0.2)\", \"rgba(207, 92, 54, 0.2)\", \"rgba(180, 120, 24, 0.6)\", \"rgba(180, 120, 24, 0.6)\", \"rgba(104, 104, 222, 0.4)\", \"rgba(207, 92, 54, 0.2)\", \"rgba(207, 92, 54, 0.2)\", \"rgba(104, 104, 222, 0.4)\", \"rgba(104, 104, 222, 0.4)\", \"rgba(180, 120, 24, 0.6)\", \"rgba(207, 92, 54, 0.2)\", \"rgba(104, 104, 222, 0.4)\", \"rgba(104, 104, 222, 0.4)\", \"rgba(207, 92, 54, 0.2)\", \"rgba(180, 120, 24, 0.6)\", \"rgba(207, 92, 54, 0.2)\", \"rgba(207, 92, 54, 0.2)\", \"rgba(207, 92, 54, 0.2)\", \"rgba(207, 92, 54, 0.2)\", \"rgba(180, 120, 24, 0.6)\", \"rgba(207, 92, 54, 0.2)\", \"rgba(104, 104, 222, 0.4)\", \"rgba(104, 104, 222, 0.4)\", \"rgba(104, 104, 222, 0.4)\", \"rgba(180, 120, 24, 0.6)\", \"rgba(207, 92, 54, 0.2)\", \"rgba(104, 104, 222, 0.4)\", \"rgba(207, 92, 54, 0.2)\", \"rgba(207, 92, 54, 0.2)\", \"rgba(104, 104, 222, 0.4)\", \"rgba(207, 92, 54, 0.2)\", \"rgba(180, 120, 24, 0.6)\", \"rgba(207, 92, 54, 0.2)\", \"rgba(180, 120, 24, 0.6)\", \"rgba(104, 104, 222, 0.4)\", \"rgba(104, 104, 222, 0.4)\", \"rgba(180, 120, 24, 0.6)\", \"rgba(104, 104, 222, 0.4)\", \"rgba(207, 92, 54, 0.2)\", \"rgba(180, 120, 24, 0.6)\", \"rgba(207, 92, 54, 0.2)\", \"rgba(207, 92, 54, 0.2)\", \"rgba(207, 92, 54, 0.2)\", \"rgba(207, 92, 54, 0.2)\", \"rgba(207, 92, 54, 0.2)\", \"rgba(207, 92, 54, 0.2)\", \"rgba(104, 104, 222, 0.4)\", \"rgba(207, 92, 54, 0.2)\", \"rgba(104, 104, 222, 0.4)\", \"rgba(180, 120, 24, 0.6)\", \"rgba(207, 92, 54, 0.2)\", \"rgba(104, 104, 222, 0.4)\", \"rgba(180, 120, 24, 0.6)\", \"rgba(104, 104, 222, 0.4)\", \"rgba(207, 92, 54, 0.2)\", \"rgba(104, 104, 222, 0.4)\", \"rgba(180, 120, 24, 0.6)\", \"rgba(104, 104, 222, 0.4)\", \"rgba(207, 92, 54, 0.2)\", \"rgba(104, 104, 222, 0.4)\", \"rgba(180, 120, 24, 0.6)\", \"rgba(207, 92, 54, 0.2)\", \"rgba(180, 120, 24, 0.6)\", \"rgba(104, 104, 222, 0.4)\", \"rgba(104, 104, 222, 0.4)\", \"rgba(180, 120, 24, 0.6)\", \"rgba(104, 104, 222, 0.4)\", \"rgba(180, 120, 24, 0.6)\", \"rgba(104, 104, 222, 0.4)\", \"rgba(207, 92, 54, 0.2)\", \"rgba(180, 120, 24, 0.6)\", \"rgba(207, 92, 54, 0.2)\", \"rgba(207, 92, 54, 0.2)\", \"rgba(104, 104, 222, 0.4)\", \"rgba(207, 92, 54, 0.2)\", \"rgba(104, 104, 222, 0.4)\", \"rgba(180, 120, 24, 0.6)\", \"rgba(180, 120, 24, 0.6)\", \"rgba(104, 104, 222, 0.4)\", \"rgba(180, 120, 24, 0.6)\", \"rgba(207, 92, 54, 0.2)\", \"rgba(207, 92, 54, 0.2)\", \"rgba(104, 104, 222, 0.4)\", \"rgba(207, 92, 54, 0.2)\", \"rgba(180, 120, 24, 0.6)\", \"rgba(104, 104, 222, 0.4)\", \"rgba(104, 104, 222, 0.4)\", \"rgba(180, 120, 24, 0.6)\", \"rgba(180, 120, 24, 0.6)\", \"rgba(180, 120, 24, 0.6)\", \"rgba(104, 104, 222, 0.4)\", \"rgba(207, 92, 54, 0.2)\", \"rgba(207, 92, 54, 0.2)\", \"rgba(104, 104, 222, 0.4)\", \"rgba(207, 92, 54, 0.2)\", \"rgba(104, 104, 222, 0.4)\", \"rgba(180, 120, 24, 0.6)\", \"rgba(180, 120, 24, 0.6)\", \"rgba(180, 120, 24, 0.6)\", \"rgba(180, 120, 24, 0.6)\", \"rgba(207, 92, 54, 0.2)\", \"rgba(207, 92, 54, 0.2)\", \"rgba(180, 120, 24, 0.6)\", \"rgba(180, 120, 24, 0.6)\", \"rgba(104, 104, 222, 0.4)\", \"rgba(104, 104, 222, 0.4)\", \"rgba(180, 120, 24, 0.6)\", \"rgba(180, 120, 24, 0.6)\", \"rgba(104, 104, 222, 0.4)\", \"rgba(104, 104, 222, 0.4)\", \"rgba(104, 104, 222, 0.4)\", \"rgba(207, 92, 54, 0.2)\", \"rgba(207, 92, 54, 0.2)\", \"rgba(104, 104, 222, 0.4)\", \"rgba(180, 120, 24, 0.6)\", \"rgba(104, 104, 222, 0.4)\", \"rgba(104, 104, 222, 0.4)\", \"rgba(104, 104, 222, 0.4)\", \"rgba(104, 104, 222, 0.4)\", \"rgba(180, 120, 24, 0.6)\", \"rgba(104, 104, 222, 0.4)\", \"rgba(104, 104, 222, 0.4)\", \"rgba(104, 104, 222, 0.4)\", \"rgba(104, 104, 222, 0.4)\", \"rgba(104, 104, 222, 0.4)\", \"rgba(207, 92, 54, 0.2)\", \"rgba(104, 104, 222, 0.4)\", \"rgba(207, 92, 54, 0.2)\"], \"source\": [0, 1, 2, 1, 3, 0, 5, 6, 5, 1, 0, 7, 0, 6, 0, 8, 9, 3, 3, 1, 4, 7, 0, 0, 1, 3, 10, 0, 1, 3, 0, 4, 7, 4, 1, 9, 7, 11, 7, 8, 7, 4, 8, 8, 7, 0, 0, 5, 11, 11, 10, 0, 4, 7, 12, 1, 3, 3, 8, 0, 7, 4, 13, 4, 0, 0, 0, 14, 13, 0, 13, 11, 0, 0, 0, 13, 15, 16, 8, 13, 17, 9, 7, 8, 3, 13, 0, 8, 8, 13, 0, 4, 14, 1, 1, 0, 8, 1, 13, 8, 8, 13, 0, 18, 8, 19, 8, 4, 4, 0, 9, 0, 8, 6, 5, 8, 4, 1, 4, 0, 13, 0, 3, 1, 1, 1, 0, 13, 13, 1, 1, 1, 1, 1, 0, 1, 1, 1, 1, 4, 0, 0, 13, 8, 0, 0, 0, 0, 4, 4, 13, 4, 4, 8, 0, 13, 13, 0, 6, 4, 10, 0, 4, 6, 0, 0, 4, 3, 3, 0, 9, 7, 10, 1, 3, 8, 1, 0], \"target\": [20, 21, 22, 23, 24, 25, 22, 26, 27, 28, 29, 24, 20, 30, 31, 32, 33, 21, 26, 21, 32, 34, 29, 25, 35, 32, 32, 23, 36, 26, 37, 38, 26, 31, 24, 30, 30, 32, 24, 21, 21, 31, 30, 39, 33, 28, 40, 26, 29, 22, 24, 35, 32, 26, 22, 40, 24, 27, 38, 37, 24, 21, 29, 33, 29, 27, 25, 22, 29, 28, 33, 22, 21, 40, 40, 26, 22, 22, 30, 26, 22, 33, 38, 21, 24, 21, 23, 32, 26, 21, 36, 24, 22, 31, 33, 31, 33, 21, 32, 30, 38, 31, 27, 22, 33, 22, 26, 33, 26, 38, 41, 21, 32, 24, 22, 38, 26, 30, 32, 32, 24, 33, 30, 30, 30, 38, 38, 26, 24, 38, 38, 32, 24, 24, 32, 32, 33, 32, 33, 26, 32, 38, 31, 26, 24, 24, 24, 21, 21, 24, 30, 30, 30, 33, 26, 30, 30, 22, 22, 24, 22, 26, 31, 22, 33, 33, 30, 22, 22, 26, 22, 22, 22, 22, 22, 22, 22, 22], \"value\": [1021, 1024, 1035, 1038, 1040, 1047, 1096, 1162, 1168, 1180, 1183, 1192, 1198, 1210, 1210, 1302, 1335, 1355, 1368, 1376, 1400, 1444, 1497, 1507, 1525, 1568, 1587, 1607, 1629, 1631, 1674, 1703, 1745, 1810, 1817, 1924, 1979, 2062, 2161, 2234, 2265, 2271, 2273, 2311, 2340, 2346, 2349, 2408, 2421, 2432, 2476, 2534, 2551, 2598, 2686, 2778, 2821, 2861, 2980, 3064, 3160, 3183, 3206, 3234, 3265, 3275, 3295, 3519, 3555, 3557, 3561, 3620, 3708, 3716, 3783, 3805, 3813, 3830, 3886, 3904, 3932, 3999, 4034, 4075, 4088, 4130, 4160, 4341, 4342, 4422, 4473, 4486, 4512, 4557, 4572, 4623, 4632, 5039, 5062, 5162, 5344, 5557, 5620, 5736, 6111, 6130, 6682, 6714, 7023, 7260, 7384, 7544, 7719, 7745, 7882, 7892, 8043, 8052, 8231, 8269, 8509, 8545, 8585, 8659, 8927, 8930, 8977, 8978, 9170, 9222, 10244, 10662, 10916, 10996, 11097, 11623, 11747, 12315, 14314, 14329, 14332, 14506, 14614, 14984, 16456, 18097, 19249, 19746, 20054, 20295, 22337, 22953, 23041, 23160, 24484, 26083, 26915, 32128, 33919, 38154, 40426, 43509, 45334, 45866, 52702, 60332, 76637, 81534, 82245, 87068, 97636, 101571, 104989, 120862, 130261, 166805, 338611, 361702]}, \"node\": {\"color\": \"whitesmoke\", \"label\": [\"Netherlands\", \"Germany\", \"Ireland\", \"Belgium\", \"C\\u00f4te d'Ivoire\", \"Austria\", \"Poland\", \"Spain\", \"France\", \"United Kingdom of Great Britain and Northern Ireland\", \"Italy\", \"Slovakia\", \"Denmark\", \"Ghana\", \"Croatia\", \"Sweden\", \"Czechia\", \"Finland\", \"Greece\", \"Bulgaria\", \"Denmark imports\", \"United Kingdom of Great Britain and Northern Ireland imports\", \"Processed\", \"Austria imports\", \"France imports\", \"Greece imports\", \"Germany imports\", \"Sweden imports\", \"Finland imports\", \"Bulgaria imports\", \"Netherlands imports\", \"Spain imports\", \"Poland imports\", \"Belgium imports\", \"Estonia imports\", \"Romania imports\", \"Hungary imports\", \"Slovakia imports\", \"Italy imports\", \"Croatia imports\", \"Czechia imports\", \"Ireland imports\"], \"line\": {\"color\": \"white\", \"width\": 0.5}, \"pad\": 10, \"thickness\": 20}, \"orientation\": \"h\", \"type\": \"sankey\", \"valueformat\": \".0f\"}],\n",
              "                        {\"font\": {\"size\": 10}, \"height\": 772, \"template\": {\"data\": {\"bar\": [{\"error_x\": {\"color\": \"#2a3f5f\"}, \"error_y\": {\"color\": \"#2a3f5f\"}, \"marker\": {\"line\": {\"color\": \"#E5ECF6\", \"width\": 0.5}}, \"type\": \"bar\"}], \"barpolar\": [{\"marker\": {\"line\": {\"color\": \"#E5ECF6\", \"width\": 0.5}}, \"type\": \"barpolar\"}], \"carpet\": [{\"aaxis\": {\"endlinecolor\": \"#2a3f5f\", \"gridcolor\": \"white\", \"linecolor\": \"white\", \"minorgridcolor\": \"white\", \"startlinecolor\": \"#2a3f5f\"}, \"baxis\": {\"endlinecolor\": \"#2a3f5f\", \"gridcolor\": \"white\", \"linecolor\": \"white\", \"minorgridcolor\": \"white\", \"startlinecolor\": \"#2a3f5f\"}, \"type\": \"carpet\"}], \"choropleth\": [{\"colorbar\": {\"outlinewidth\": 0, \"ticks\": \"\"}, \"type\": \"choropleth\"}], \"contour\": [{\"colorbar\": {\"outlinewidth\": 0, \"ticks\": \"\"}, \"colorscale\": [[0.0, \"#0d0887\"], [0.1111111111111111, \"#46039f\"], [0.2222222222222222, \"#7201a8\"], [0.3333333333333333, \"#9c179e\"], [0.4444444444444444, \"#bd3786\"], [0.5555555555555556, \"#d8576b\"], [0.6666666666666666, \"#ed7953\"], [0.7777777777777778, \"#fb9f3a\"], [0.8888888888888888, \"#fdca26\"], [1.0, \"#f0f921\"]], \"type\": \"contour\"}], \"contourcarpet\": [{\"colorbar\": {\"outlinewidth\": 0, \"ticks\": \"\"}, \"type\": \"contourcarpet\"}], \"heatmap\": [{\"colorbar\": {\"outlinewidth\": 0, \"ticks\": \"\"}, \"colorscale\": [[0.0, \"#0d0887\"], [0.1111111111111111, \"#46039f\"], [0.2222222222222222, \"#7201a8\"], [0.3333333333333333, \"#9c179e\"], [0.4444444444444444, \"#bd3786\"], [0.5555555555555556, \"#d8576b\"], [0.6666666666666666, \"#ed7953\"], [0.7777777777777778, \"#fb9f3a\"], [0.8888888888888888, \"#fdca26\"], [1.0, \"#f0f921\"]], \"type\": \"heatmap\"}], \"heatmapgl\": [{\"colorbar\": {\"outlinewidth\": 0, \"ticks\": \"\"}, \"colorscale\": [[0.0, \"#0d0887\"], [0.1111111111111111, \"#46039f\"], [0.2222222222222222, \"#7201a8\"], [0.3333333333333333, \"#9c179e\"], [0.4444444444444444, \"#bd3786\"], [0.5555555555555556, \"#d8576b\"], [0.6666666666666666, \"#ed7953\"], [0.7777777777777778, \"#fb9f3a\"], [0.8888888888888888, \"#fdca26\"], [1.0, \"#f0f921\"]], \"type\": \"heatmapgl\"}], \"histogram\": [{\"marker\": {\"colorbar\": {\"outlinewidth\": 0, \"ticks\": \"\"}}, \"type\": \"histogram\"}], \"histogram2d\": [{\"colorbar\": {\"outlinewidth\": 0, \"ticks\": \"\"}, \"colorscale\": [[0.0, \"#0d0887\"], [0.1111111111111111, \"#46039f\"], [0.2222222222222222, \"#7201a8\"], [0.3333333333333333, \"#9c179e\"], [0.4444444444444444, \"#bd3786\"], [0.5555555555555556, \"#d8576b\"], [0.6666666666666666, \"#ed7953\"], [0.7777777777777778, \"#fb9f3a\"], [0.8888888888888888, \"#fdca26\"], [1.0, \"#f0f921\"]], \"type\": \"histogram2d\"}], \"histogram2dcontour\": [{\"colorbar\": {\"outlinewidth\": 0, \"ticks\": \"\"}, \"colorscale\": [[0.0, \"#0d0887\"], [0.1111111111111111, \"#46039f\"], [0.2222222222222222, \"#7201a8\"], [0.3333333333333333, \"#9c179e\"], [0.4444444444444444, \"#bd3786\"], [0.5555555555555556, \"#d8576b\"], [0.6666666666666666, \"#ed7953\"], [0.7777777777777778, \"#fb9f3a\"], [0.8888888888888888, \"#fdca26\"], [1.0, \"#f0f921\"]], \"type\": \"histogram2dcontour\"}], \"mesh3d\": [{\"colorbar\": {\"outlinewidth\": 0, \"ticks\": \"\"}, \"type\": \"mesh3d\"}], \"parcoords\": [{\"line\": {\"colorbar\": {\"outlinewidth\": 0, \"ticks\": \"\"}}, \"type\": \"parcoords\"}], \"pie\": [{\"automargin\": true, \"type\": \"pie\"}], \"scatter\": [{\"marker\": {\"colorbar\": {\"outlinewidth\": 0, \"ticks\": \"\"}}, \"type\": \"scatter\"}], \"scatter3d\": [{\"line\": {\"colorbar\": {\"outlinewidth\": 0, \"ticks\": \"\"}}, \"marker\": {\"colorbar\": {\"outlinewidth\": 0, \"ticks\": \"\"}}, \"type\": \"scatter3d\"}], \"scattercarpet\": [{\"marker\": {\"colorbar\": {\"outlinewidth\": 0, \"ticks\": \"\"}}, \"type\": \"scattercarpet\"}], \"scattergeo\": [{\"marker\": {\"colorbar\": {\"outlinewidth\": 0, \"ticks\": \"\"}}, \"type\": \"scattergeo\"}], \"scattergl\": [{\"marker\": {\"colorbar\": {\"outlinewidth\": 0, \"ticks\": \"\"}}, \"type\": \"scattergl\"}], \"scattermapbox\": [{\"marker\": {\"colorbar\": {\"outlinewidth\": 0, \"ticks\": \"\"}}, \"type\": \"scattermapbox\"}], \"scatterpolar\": [{\"marker\": {\"colorbar\": {\"outlinewidth\": 0, \"ticks\": \"\"}}, \"type\": \"scatterpolar\"}], \"scatterpolargl\": [{\"marker\": {\"colorbar\": {\"outlinewidth\": 0, \"ticks\": \"\"}}, \"type\": \"scatterpolargl\"}], \"scatterternary\": [{\"marker\": {\"colorbar\": {\"outlinewidth\": 0, \"ticks\": \"\"}}, \"type\": \"scatterternary\"}], \"surface\": [{\"colorbar\": {\"outlinewidth\": 0, \"ticks\": \"\"}, \"colorscale\": [[0.0, \"#0d0887\"], [0.1111111111111111, \"#46039f\"], [0.2222222222222222, \"#7201a8\"], [0.3333333333333333, \"#9c179e\"], [0.4444444444444444, \"#bd3786\"], [0.5555555555555556, \"#d8576b\"], [0.6666666666666666, \"#ed7953\"], [0.7777777777777778, \"#fb9f3a\"], [0.8888888888888888, \"#fdca26\"], [1.0, \"#f0f921\"]], \"type\": \"surface\"}], \"table\": [{\"cells\": {\"fill\": {\"color\": \"#EBF0F8\"}, \"line\": {\"color\": \"white\"}}, \"header\": {\"fill\": {\"color\": \"#C8D4E3\"}, \"line\": {\"color\": \"white\"}}, \"type\": \"table\"}]}, \"layout\": {\"annotationdefaults\": {\"arrowcolor\": \"#2a3f5f\", \"arrowhead\": 0, \"arrowwidth\": 1}, \"coloraxis\": {\"colorbar\": {\"outlinewidth\": 0, \"ticks\": \"\"}}, \"colorscale\": {\"diverging\": [[0, \"#8e0152\"], [0.1, \"#c51b7d\"], [0.2, \"#de77ae\"], [0.3, \"#f1b6da\"], [0.4, \"#fde0ef\"], [0.5, \"#f7f7f7\"], [0.6, \"#e6f5d0\"], [0.7, \"#b8e186\"], [0.8, \"#7fbc41\"], [0.9, \"#4d9221\"], [1, \"#276419\"]], \"sequential\": [[0.0, \"#0d0887\"], [0.1111111111111111, \"#46039f\"], [0.2222222222222222, \"#7201a8\"], [0.3333333333333333, \"#9c179e\"], [0.4444444444444444, \"#bd3786\"], [0.5555555555555556, \"#d8576b\"], [0.6666666666666666, \"#ed7953\"], [0.7777777777777778, \"#fb9f3a\"], [0.8888888888888888, \"#fdca26\"], [1.0, \"#f0f921\"]], \"sequentialminus\": [[0.0, \"#0d0887\"], [0.1111111111111111, \"#46039f\"], [0.2222222222222222, \"#7201a8\"], [0.3333333333333333, \"#9c179e\"], [0.4444444444444444, \"#bd3786\"], [0.5555555555555556, \"#d8576b\"], [0.6666666666666666, \"#ed7953\"], [0.7777777777777778, \"#fb9f3a\"], [0.8888888888888888, \"#fdca26\"], [1.0, \"#f0f921\"]]}, \"colorway\": [\"#636efa\", \"#EF553B\", \"#00cc96\", \"#ab63fa\", \"#FFA15A\", \"#19d3f3\", \"#FF6692\", \"#B6E880\", \"#FF97FF\", \"#FECB52\"], \"font\": {\"color\": \"#2a3f5f\"}, \"geo\": {\"bgcolor\": \"white\", \"lakecolor\": \"white\", \"landcolor\": \"#E5ECF6\", \"showlakes\": true, \"showland\": true, \"subunitcolor\": \"white\"}, \"hoverlabel\": {\"align\": \"left\"}, \"hovermode\": \"closest\", \"mapbox\": {\"style\": \"light\"}, \"paper_bgcolor\": \"white\", \"plot_bgcolor\": \"#E5ECF6\", \"polar\": {\"angularaxis\": {\"gridcolor\": \"white\", \"linecolor\": \"white\", \"ticks\": \"\"}, \"bgcolor\": \"#E5ECF6\", \"radialaxis\": {\"gridcolor\": \"white\", \"linecolor\": \"white\", \"ticks\": \"\"}}, \"scene\": {\"xaxis\": {\"backgroundcolor\": \"#E5ECF6\", \"gridcolor\": \"white\", \"gridwidth\": 2, \"linecolor\": \"white\", \"showbackground\": true, \"ticks\": \"\", \"zerolinecolor\": \"white\"}, \"yaxis\": {\"backgroundcolor\": \"#E5ECF6\", \"gridcolor\": \"white\", \"gridwidth\": 2, \"linecolor\": \"white\", \"showbackground\": true, \"ticks\": \"\", \"zerolinecolor\": \"white\"}, \"zaxis\": {\"backgroundcolor\": \"#E5ECF6\", \"gridcolor\": \"white\", \"gridwidth\": 2, \"linecolor\": \"white\", \"showbackground\": true, \"ticks\": \"\", \"zerolinecolor\": \"white\"}}, \"shapedefaults\": {\"line\": {\"color\": \"#2a3f5f\"}}, \"ternary\": {\"aaxis\": {\"gridcolor\": \"white\", \"linecolor\": \"white\", \"ticks\": \"\"}, \"baxis\": {\"gridcolor\": \"white\", \"linecolor\": \"white\", \"ticks\": \"\"}, \"bgcolor\": \"#E5ECF6\", \"caxis\": {\"gridcolor\": \"white\", \"linecolor\": \"white\", \"ticks\": \"\"}}, \"title\": {\"x\": 0.05}, \"xaxis\": {\"automargin\": true, \"gridcolor\": \"white\", \"linecolor\": \"white\", \"ticks\": \"\", \"title\": {\"standoff\": 15}, \"zerolinecolor\": \"white\", \"zerolinewidth\": 2}, \"yaxis\": {\"automargin\": true, \"gridcolor\": \"white\", \"linecolor\": \"white\", \"ticks\": \"\", \"title\": {\"standoff\": 15}, \"zerolinecolor\": \"white\", \"zerolinewidth\": 2}}}, \"title\": {\"text\": \"Flow of derived commodities from West Africa and within Europe in 2017 (Quantity in tonnes)\"}, \"width\": 950},\n",
              "                        {\"responsive\": true}\n",
              "                    ).then(function(){\n",
              "                            \n",
              "var gd = document.getElementById('6093549d-1311-4b13-a26d-2a25be3400d3');\n",
              "var x = new MutationObserver(function (mutations, observer) {{\n",
              "        var display = window.getComputedStyle(gd).display;\n",
              "        if (!display || display === 'none') {{\n",
              "            console.log([gd, 'removed!']);\n",
              "            Plotly.purge(gd);\n",
              "            observer.disconnect();\n",
              "        }}\n",
              "}});\n",
              "\n",
              "// Listen for the removal of the full notebook cells\n",
              "var notebookContainer = gd.closest('#notebook-container');\n",
              "if (notebookContainer) {{\n",
              "    x.observe(notebookContainer, {childList: true});\n",
              "}}\n",
              "\n",
              "// Listen for the clearing of the current output cell\n",
              "var outputEl = gd.closest('.output');\n",
              "if (outputEl) {{\n",
              "    x.observe(outputEl, {childList: true});\n",
              "}}\n",
              "\n",
              "                        })\n",
              "                };\n",
              "                \n",
              "            </script>\n",
              "        </div>\n",
              "</body>\n",
              "</html>"
            ]
          },
          "metadata": {
            "tags": []
          }
        }
      ]
    },
    {
      "cell_type": "markdown",
      "metadata": {
        "id": "7zIrlDlkyKoq"
      },
      "source": [
        "# Conversion to raw equivalents and split by raw commodities\n"
      ]
    },
    {
      "cell_type": "markdown",
      "metadata": {
        "id": "Kk-0riS53JjK"
      },
      "source": [
        "## Paste"
      ]
    },
    {
      "cell_type": "code",
      "metadata": {
        "id": "BoyaJ8kuyPG3"
      },
      "source": [
        "pasteraweqs_df = pd.read_csv('Cocoa paste raw equivalents.csv')\n",
        "derivedcomsources_list = pd.read_csv('Sankey_derivedcom_sources_top.csv')"
      ],
      "execution_count": null,
      "outputs": []
    },
    {
      "cell_type": "code",
      "metadata": {
        "colab": {
          "base_uri": "https://localhost:8080/",
          "height": 789
        },
        "id": "MSb-vKX7yTIY",
        "outputId": "737ff1f6-8d92-47bd-a5a8-4b3f64c3878e"
      },
      "source": [
        "data_trace = dict(\n",
        "    type='sankey',\n",
        "    domain = dict(\n",
        "      x =  [0,1],\n",
        "      y =  [0,1]\n",
        "    ),\n",
        "    orientation = \"h\",\n",
        "    valueformat = \".0f\",\n",
        "    node = dict(\n",
        "      pad = 10,\n",
        "      thickness = 20,\n",
        "      line = dict(\n",
        "        color = \"white\",\n",
        "        width = 0.5\n",
        "      ),\n",
        "      label =  derivedcomsources_list['Desc'].dropna(axis=0, how='any'),\n",
        "      color = derivedcomsources_list['Color']\n",
        "    ),\n",
        "    link = dict(\n",
        "      source = pasteraweqs_df['Source'].dropna(axis=0, how='any'),\n",
        "      target = pasteraweqs_df['Target'].dropna(axis=0, how='any'),\n",
        "      value = pasteraweqs_df['Raw cocoa equivalent'].dropna(axis=0, how='any'),\n",
        "      color = 'rgba(203, 153, 126, 0.15)'\n",
        "  )\n",
        ")\n",
        "\n",
        "layout =  dict(\n",
        "    title = \"Cocoa paste flows from West Africa and within the EU 28 in raw cocoa equivalents - 2017 data (Quantity in tonnes)\",\n",
        "    height = 772,\n",
        "    width = 950,\n",
        "    font = dict(\n",
        "      size = 10\n",
        "    ),    \n",
        ")\n",
        "\n",
        "\n",
        "fig = go.Figure(data=[go.Sankey(data_trace)], layout=layout)\n",
        "fig.show()"
      ],
      "execution_count": null,
      "outputs": [
        {
          "output_type": "display_data",
          "data": {
            "text/html": [
              "<html>\n",
              "<head><meta charset=\"utf-8\" /></head>\n",
              "<body>\n",
              "    <div>\n",
              "            <script src=\"https://cdnjs.cloudflare.com/ajax/libs/mathjax/2.7.5/MathJax.js?config=TeX-AMS-MML_SVG\"></script><script type=\"text/javascript\">if (window.MathJax) {MathJax.Hub.Config({SVG: {font: \"STIX-Web\"}});}</script>\n",
              "                <script type=\"text/javascript\">window.PlotlyConfig = {MathJaxConfig: 'local'};</script>\n",
              "        <script src=\"https://cdn.plot.ly/plotly-latest.min.js\"></script>    \n",
              "            <div id=\"1350a756-fbcb-42dd-9bbd-e9ba06615998\" class=\"plotly-graph-div\" style=\"height:772px; width:950px;\"></div>\n",
              "            <script type=\"text/javascript\">\n",
              "                \n",
              "                    window.PLOTLYENV=window.PLOTLYENV || {};\n",
              "                    \n",
              "                if (document.getElementById(\"1350a756-fbcb-42dd-9bbd-e9ba06615998\")) {\n",
              "                    Plotly.newPlot(\n",
              "                        '1350a756-fbcb-42dd-9bbd-e9ba06615998',\n",
              "                        [{\"domain\": {\"x\": [0, 1], \"y\": [0, 1]}, \"link\": {\"color\": \"rgba(203, 153, 126, 0.15)\", \"source\": [1, 0, 4, 6, 1, 0, 42, 3, 3, 4, 11, 7, 8, 8, 0, 11, 11, 12, 3, 8, 4, 13, 0, 0, 15, 16, 13, 17, 3, 13, 8, 14, 8, 13, 13, 18, 19, 4, 0, 6, 5, 4, 4, 1, 1, 13, 1, 1, 1, 0, 8, 0, 0, 13, 4, 6, 0, 4, 9, 7, 10, 3, 8, 1, 0], \"target\": [21, 25, 43, 26, 28, 29, 22, 26, 32, 31, 32, 24, 30, 39, 28, 29, 22, 22, 27, 38, 21, 29, 21, 40, 22, 22, 26, 22, 24, 21, 32, 22, 33, 32, 31, 22, 22, 33, 38, 24, 22, 26, 32, 30, 38, 24, 24, 32, 33, 32, 26, 24, 26, 30, 24, 22, 33, 30, 22, 22, 22, 22, 22, 22, 22], \"value\": [1280.0, 1308.75, 1335.0, 1452.5, 1475.0, 1478.75, 1658.75, 1710.0, 1960.0, 2262.5, 2577.5, 2701.25, 2841.25, 2888.75, 2932.5, 3026.25, 3040.0, 3357.5, 3576.25, 3725.0, 3978.75, 4007.5, 4635.0, 4645.0, 4766.25, 4787.5, 4880.0, 4915.0, 5110.0, 5162.5, 5426.25, 5640.0, 5790.0, 6327.5, 6946.25, 7170.0, 7662.5, 8392.5, 9075.0, 9681.25, 9852.5, 10053.75, 10288.75, 10823.75, 11162.5, 11462.5, 13645.0, 14528.75, 14683.75, 17915.0, 18730.0, 22621.25, 30605.0, 32603.75, 47692.5, 57332.5, 75415.0, 95796.25, 122045.0, 126963.75, 131236.25, 162826.25, 208506.25, 423263.75, 452127.5]}, \"node\": {\"color\": [\"#f9c74f\", \"#4d908e\", \"#B7B7A4\", \"#f8961e\", \"#fec5bb\", \"#272640\", \"#577590\", \"#f94144\", \"#277da1\", \"#a3cef1\", \"#90be6d\", \"#B7B7A4\", \"#373d20\", \"#fec89a\", \"#641220\", \"#B7B7A4\", \"#B7B7A4\", \"#B7B7A4\", \"#16db93\", \"#f9c74f\", \"#373d20\", \"#a3cef1\", \"#b1a7a6\", \"#272640\", \"#277da1\", \"#16db93\", \"#4d908e\", \"#B7B7A4\", \"#B7B7A4\", \"#f9c74f\", \"#f9c74f\", \"#f94144\", \"#577590\", \"#f8961e\", \"#efea5a\", \"#B7B7A4\", \"#B7B7A4\", \"#B7B7A4\", \"#90be6d\", \"#641220\", \"#B7B7A4\", \"#B7B7A4\", \"#B7B7A4\", \"#B7B7A4\"], \"label\": [\"Netherlands\", \"Germany\", \"Ireland\", \"Belgium\", \"C\\u00f4te d'Ivoire\", \"Austria\", \"Poland\", \"Spain\", \"France\", \"United Kingdom of Great Britain and Northern Ireland\", \"Italy\", \"Slovakia\", \"Denmark\", \"Ghana\", \"Croatia\", \"Sweden\", \"Czechia\", \"Finland\", \"Greece\", \"Bulgaria\", \"Denmark imports\", \"United Kingdom of Great Britain and Northern Ireland imports\", \"Processed\", \"Austria imports\", \"France imports\", \"Greece imports\", \"Germany imports\", \"Sweden imports\", \"Finland imports\", \"Bulgaria imports\", \"Netherlands imports\", \"Spain imports\", \"Poland imports\", \"Belgium imports\", \"Estonia imports\", \"Romania imports\", \"Hungary imports\", \"Slovakia imports\", \"Italy imports\", \"Croatia imports\", \"Czechia imports\", \"Ireland imports\", \"Portugal\", \"Portugal imports\"], \"line\": {\"color\": \"white\", \"width\": 0.5}, \"pad\": 10, \"thickness\": 20}, \"orientation\": \"h\", \"type\": \"sankey\", \"valueformat\": \".0f\"}],\n",
              "                        {\"font\": {\"size\": 10}, \"height\": 772, \"template\": {\"data\": {\"bar\": [{\"error_x\": {\"color\": \"#2a3f5f\"}, \"error_y\": {\"color\": \"#2a3f5f\"}, \"marker\": {\"line\": {\"color\": \"#E5ECF6\", \"width\": 0.5}}, \"type\": \"bar\"}], \"barpolar\": [{\"marker\": {\"line\": {\"color\": \"#E5ECF6\", \"width\": 0.5}}, \"type\": \"barpolar\"}], \"carpet\": [{\"aaxis\": {\"endlinecolor\": \"#2a3f5f\", \"gridcolor\": \"white\", \"linecolor\": \"white\", \"minorgridcolor\": \"white\", \"startlinecolor\": \"#2a3f5f\"}, \"baxis\": {\"endlinecolor\": \"#2a3f5f\", \"gridcolor\": \"white\", \"linecolor\": \"white\", \"minorgridcolor\": \"white\", \"startlinecolor\": \"#2a3f5f\"}, \"type\": \"carpet\"}], \"choropleth\": [{\"colorbar\": {\"outlinewidth\": 0, \"ticks\": \"\"}, \"type\": \"choropleth\"}], \"contour\": [{\"colorbar\": {\"outlinewidth\": 0, \"ticks\": \"\"}, \"colorscale\": [[0.0, \"#0d0887\"], [0.1111111111111111, \"#46039f\"], [0.2222222222222222, \"#7201a8\"], [0.3333333333333333, \"#9c179e\"], [0.4444444444444444, \"#bd3786\"], [0.5555555555555556, \"#d8576b\"], [0.6666666666666666, \"#ed7953\"], [0.7777777777777778, \"#fb9f3a\"], [0.8888888888888888, \"#fdca26\"], [1.0, \"#f0f921\"]], \"type\": \"contour\"}], \"contourcarpet\": [{\"colorbar\": {\"outlinewidth\": 0, \"ticks\": \"\"}, \"type\": \"contourcarpet\"}], \"heatmap\": [{\"colorbar\": {\"outlinewidth\": 0, \"ticks\": \"\"}, \"colorscale\": [[0.0, \"#0d0887\"], [0.1111111111111111, \"#46039f\"], [0.2222222222222222, \"#7201a8\"], [0.3333333333333333, \"#9c179e\"], [0.4444444444444444, \"#bd3786\"], [0.5555555555555556, \"#d8576b\"], [0.6666666666666666, \"#ed7953\"], [0.7777777777777778, \"#fb9f3a\"], [0.8888888888888888, \"#fdca26\"], [1.0, \"#f0f921\"]], \"type\": \"heatmap\"}], \"heatmapgl\": [{\"colorbar\": {\"outlinewidth\": 0, \"ticks\": \"\"}, \"colorscale\": [[0.0, \"#0d0887\"], [0.1111111111111111, \"#46039f\"], [0.2222222222222222, \"#7201a8\"], [0.3333333333333333, \"#9c179e\"], [0.4444444444444444, \"#bd3786\"], [0.5555555555555556, \"#d8576b\"], [0.6666666666666666, \"#ed7953\"], [0.7777777777777778, \"#fb9f3a\"], [0.8888888888888888, \"#fdca26\"], [1.0, \"#f0f921\"]], \"type\": \"heatmapgl\"}], \"histogram\": [{\"marker\": {\"colorbar\": {\"outlinewidth\": 0, \"ticks\": \"\"}}, \"type\": \"histogram\"}], \"histogram2d\": [{\"colorbar\": {\"outlinewidth\": 0, \"ticks\": \"\"}, \"colorscale\": [[0.0, \"#0d0887\"], [0.1111111111111111, \"#46039f\"], [0.2222222222222222, \"#7201a8\"], [0.3333333333333333, \"#9c179e\"], [0.4444444444444444, \"#bd3786\"], [0.5555555555555556, \"#d8576b\"], [0.6666666666666666, \"#ed7953\"], [0.7777777777777778, \"#fb9f3a\"], [0.8888888888888888, \"#fdca26\"], [1.0, \"#f0f921\"]], \"type\": \"histogram2d\"}], \"histogram2dcontour\": [{\"colorbar\": {\"outlinewidth\": 0, \"ticks\": \"\"}, \"colorscale\": [[0.0, \"#0d0887\"], [0.1111111111111111, \"#46039f\"], [0.2222222222222222, \"#7201a8\"], [0.3333333333333333, \"#9c179e\"], [0.4444444444444444, \"#bd3786\"], [0.5555555555555556, \"#d8576b\"], [0.6666666666666666, \"#ed7953\"], [0.7777777777777778, \"#fb9f3a\"], [0.8888888888888888, \"#fdca26\"], [1.0, \"#f0f921\"]], \"type\": \"histogram2dcontour\"}], \"mesh3d\": [{\"colorbar\": {\"outlinewidth\": 0, \"ticks\": \"\"}, \"type\": \"mesh3d\"}], \"parcoords\": [{\"line\": {\"colorbar\": {\"outlinewidth\": 0, \"ticks\": \"\"}}, \"type\": \"parcoords\"}], \"pie\": [{\"automargin\": true, \"type\": \"pie\"}], \"scatter\": [{\"marker\": {\"colorbar\": {\"outlinewidth\": 0, \"ticks\": \"\"}}, \"type\": \"scatter\"}], \"scatter3d\": [{\"line\": {\"colorbar\": {\"outlinewidth\": 0, \"ticks\": \"\"}}, \"marker\": {\"colorbar\": {\"outlinewidth\": 0, \"ticks\": \"\"}}, \"type\": \"scatter3d\"}], \"scattercarpet\": [{\"marker\": {\"colorbar\": {\"outlinewidth\": 0, \"ticks\": \"\"}}, \"type\": \"scattercarpet\"}], \"scattergeo\": [{\"marker\": {\"colorbar\": {\"outlinewidth\": 0, \"ticks\": \"\"}}, \"type\": \"scattergeo\"}], \"scattergl\": [{\"marker\": {\"colorbar\": {\"outlinewidth\": 0, \"ticks\": \"\"}}, \"type\": \"scattergl\"}], \"scattermapbox\": [{\"marker\": {\"colorbar\": {\"outlinewidth\": 0, \"ticks\": \"\"}}, \"type\": \"scattermapbox\"}], \"scatterpolar\": [{\"marker\": {\"colorbar\": {\"outlinewidth\": 0, \"ticks\": \"\"}}, \"type\": \"scatterpolar\"}], \"scatterpolargl\": [{\"marker\": {\"colorbar\": {\"outlinewidth\": 0, \"ticks\": \"\"}}, \"type\": \"scatterpolargl\"}], \"scatterternary\": [{\"marker\": {\"colorbar\": {\"outlinewidth\": 0, \"ticks\": \"\"}}, \"type\": \"scatterternary\"}], \"surface\": [{\"colorbar\": {\"outlinewidth\": 0, \"ticks\": \"\"}, \"colorscale\": [[0.0, \"#0d0887\"], [0.1111111111111111, \"#46039f\"], [0.2222222222222222, \"#7201a8\"], [0.3333333333333333, \"#9c179e\"], [0.4444444444444444, \"#bd3786\"], [0.5555555555555556, \"#d8576b\"], [0.6666666666666666, \"#ed7953\"], [0.7777777777777778, \"#fb9f3a\"], [0.8888888888888888, \"#fdca26\"], [1.0, \"#f0f921\"]], \"type\": \"surface\"}], \"table\": [{\"cells\": {\"fill\": {\"color\": \"#EBF0F8\"}, \"line\": {\"color\": \"white\"}}, \"header\": {\"fill\": {\"color\": \"#C8D4E3\"}, \"line\": {\"color\": \"white\"}}, \"type\": \"table\"}]}, \"layout\": {\"annotationdefaults\": {\"arrowcolor\": \"#2a3f5f\", \"arrowhead\": 0, \"arrowwidth\": 1}, \"coloraxis\": {\"colorbar\": {\"outlinewidth\": 0, \"ticks\": \"\"}}, \"colorscale\": {\"diverging\": [[0, \"#8e0152\"], [0.1, \"#c51b7d\"], [0.2, \"#de77ae\"], [0.3, \"#f1b6da\"], [0.4, \"#fde0ef\"], [0.5, \"#f7f7f7\"], [0.6, \"#e6f5d0\"], [0.7, \"#b8e186\"], [0.8, \"#7fbc41\"], [0.9, \"#4d9221\"], [1, \"#276419\"]], \"sequential\": [[0.0, \"#0d0887\"], [0.1111111111111111, \"#46039f\"], [0.2222222222222222, \"#7201a8\"], [0.3333333333333333, \"#9c179e\"], [0.4444444444444444, \"#bd3786\"], [0.5555555555555556, \"#d8576b\"], [0.6666666666666666, \"#ed7953\"], [0.7777777777777778, \"#fb9f3a\"], [0.8888888888888888, \"#fdca26\"], [1.0, \"#f0f921\"]], \"sequentialminus\": [[0.0, \"#0d0887\"], [0.1111111111111111, \"#46039f\"], [0.2222222222222222, \"#7201a8\"], [0.3333333333333333, \"#9c179e\"], [0.4444444444444444, \"#bd3786\"], [0.5555555555555556, \"#d8576b\"], [0.6666666666666666, \"#ed7953\"], [0.7777777777777778, \"#fb9f3a\"], [0.8888888888888888, \"#fdca26\"], [1.0, \"#f0f921\"]]}, \"colorway\": [\"#636efa\", \"#EF553B\", \"#00cc96\", \"#ab63fa\", \"#FFA15A\", \"#19d3f3\", \"#FF6692\", \"#B6E880\", \"#FF97FF\", \"#FECB52\"], \"font\": {\"color\": \"#2a3f5f\"}, \"geo\": {\"bgcolor\": \"white\", \"lakecolor\": \"white\", \"landcolor\": \"#E5ECF6\", \"showlakes\": true, \"showland\": true, \"subunitcolor\": \"white\"}, \"hoverlabel\": {\"align\": \"left\"}, \"hovermode\": \"closest\", \"mapbox\": {\"style\": \"light\"}, \"paper_bgcolor\": \"white\", \"plot_bgcolor\": \"#E5ECF6\", \"polar\": {\"angularaxis\": {\"gridcolor\": \"white\", \"linecolor\": \"white\", \"ticks\": \"\"}, \"bgcolor\": \"#E5ECF6\", \"radialaxis\": {\"gridcolor\": \"white\", \"linecolor\": \"white\", \"ticks\": \"\"}}, \"scene\": {\"xaxis\": {\"backgroundcolor\": \"#E5ECF6\", \"gridcolor\": \"white\", \"gridwidth\": 2, \"linecolor\": \"white\", \"showbackground\": true, \"ticks\": \"\", \"zerolinecolor\": \"white\"}, \"yaxis\": {\"backgroundcolor\": \"#E5ECF6\", \"gridcolor\": \"white\", \"gridwidth\": 2, \"linecolor\": \"white\", \"showbackground\": true, \"ticks\": \"\", \"zerolinecolor\": \"white\"}, \"zaxis\": {\"backgroundcolor\": \"#E5ECF6\", \"gridcolor\": \"white\", \"gridwidth\": 2, \"linecolor\": \"white\", \"showbackground\": true, \"ticks\": \"\", \"zerolinecolor\": \"white\"}}, \"shapedefaults\": {\"line\": {\"color\": \"#2a3f5f\"}}, \"ternary\": {\"aaxis\": {\"gridcolor\": \"white\", \"linecolor\": \"white\", \"ticks\": \"\"}, \"baxis\": {\"gridcolor\": \"white\", \"linecolor\": \"white\", \"ticks\": \"\"}, \"bgcolor\": \"#E5ECF6\", \"caxis\": {\"gridcolor\": \"white\", \"linecolor\": \"white\", \"ticks\": \"\"}}, \"title\": {\"x\": 0.05}, \"xaxis\": {\"automargin\": true, \"gridcolor\": \"white\", \"linecolor\": \"white\", \"ticks\": \"\", \"title\": {\"standoff\": 15}, \"zerolinecolor\": \"white\", \"zerolinewidth\": 2}, \"yaxis\": {\"automargin\": true, \"gridcolor\": \"white\", \"linecolor\": \"white\", \"ticks\": \"\", \"title\": {\"standoff\": 15}, \"zerolinecolor\": \"white\", \"zerolinewidth\": 2}}}, \"title\": {\"text\": \"Cocoa paste flows from West Africa and within the EU 28 in raw cocoa equivalents - 2017 data (Quantity in tonnes)\"}, \"width\": 950},\n",
              "                        {\"responsive\": true}\n",
              "                    ).then(function(){\n",
              "                            \n",
              "var gd = document.getElementById('1350a756-fbcb-42dd-9bbd-e9ba06615998');\n",
              "var x = new MutationObserver(function (mutations, observer) {{\n",
              "        var display = window.getComputedStyle(gd).display;\n",
              "        if (!display || display === 'none') {{\n",
              "            console.log([gd, 'removed!']);\n",
              "            Plotly.purge(gd);\n",
              "            observer.disconnect();\n",
              "        }}\n",
              "}});\n",
              "\n",
              "// Listen for the removal of the full notebook cells\n",
              "var notebookContainer = gd.closest('#notebook-container');\n",
              "if (notebookContainer) {{\n",
              "    x.observe(notebookContainer, {childList: true});\n",
              "}}\n",
              "\n",
              "// Listen for the clearing of the current output cell\n",
              "var outputEl = gd.closest('.output');\n",
              "if (outputEl) {{\n",
              "    x.observe(outputEl, {childList: true});\n",
              "}}\n",
              "\n",
              "                        })\n",
              "                };\n",
              "                \n",
              "            </script>\n",
              "        </div>\n",
              "</body>\n",
              "</html>"
            ]
          },
          "metadata": {
            "tags": []
          }
        }
      ]
    },
    {
      "cell_type": "code",
      "metadata": {
        "colab": {
          "base_uri": "https://localhost:8080/",
          "height": 35
        },
        "id": "CFnV7Am_0zHl",
        "outputId": "9480315b-2efe-4552-d916-3315df27553a"
      },
      "source": [
        "plotly.offline.plot(fig, filename=r'GH_CI_EU28_cocoapaste_raw eqs_2017_Sankeyinteractive.html')"
      ],
      "execution_count": null,
      "outputs": [
        {
          "output_type": "execute_result",
          "data": {
            "application/vnd.google.colaboratory.intrinsic+json": {
              "type": "string"
            },
            "text/plain": [
              "'GH_CI_EU28_cocoapaste_raw eqs_2017_Sankeyinteractive.html'"
            ]
          },
          "metadata": {
            "tags": []
          },
          "execution_count": 30
        }
      ]
    },
    {
      "cell_type": "markdown",
      "metadata": {
        "id": "SLdrfoU33Bgs"
      },
      "source": [
        "## Butter\n"
      ]
    },
    {
      "cell_type": "code",
      "metadata": {
        "id": "hdWfMu0GzUz_"
      },
      "source": [
        "butterraweqs_df = pd.read_csv('Cocoa butter raw equivalents.csv')"
      ],
      "execution_count": null,
      "outputs": []
    },
    {
      "cell_type": "code",
      "metadata": {
        "colab": {
          "base_uri": "https://localhost:8080/",
          "height": 789
        },
        "id": "KgUa6z6c3MWG",
        "outputId": "36fdfdb9-8d0c-4611-a198-f727a5d738f9"
      },
      "source": [
        "data_trace = dict(\n",
        "    type='sankey',\n",
        "    domain = dict(\n",
        "      x =  [0,1],\n",
        "      y =  [0,1]\n",
        "    ),\n",
        "    orientation = \"h\",\n",
        "    valueformat = \".0f\",\n",
        "    node = dict(\n",
        "      pad = 10,\n",
        "      thickness = 20,\n",
        "      line = dict(\n",
        "        color = \"white\",\n",
        "        width = 0.5\n",
        "      ),\n",
        "      label =  derivedcomsources_list['Desc'].dropna(axis=0, how='any'),\n",
        "      color = derivedcomsources_list['Color']\n",
        "    ),\n",
        "    link = dict(\n",
        "      source = butterraweqs_df['Source'].dropna(axis=0, how='any'),\n",
        "      target = butterraweqs_df['Target'].dropna(axis=0, how='any'),\n",
        "      value = butterraweqs_df['Raw cocoa eq'].dropna(axis=0, how='any'),\n",
        "      color = 'rgba(203, 153, 126, 0.15)'\n",
        "  )\n",
        ")\n",
        "\n",
        "layout =  dict(\n",
        "    title = \"Cocoa butter flows from West Africa and within the EU 28 in raw cocoa equivalents - 2017 data (Quantity in tonnes)\",\n",
        "    height = 772,\n",
        "    width = 950,\n",
        "    font = dict(\n",
        "      size = 10\n",
        "    ),    \n",
        ")\n",
        "\n",
        "\n",
        "fig = go.Figure(data=[go.Sankey(data_trace)], layout=layout)\n",
        "fig.show()"
      ],
      "execution_count": null,
      "outputs": [
        {
          "output_type": "display_data",
          "data": {
            "text/html": [
              "<html>\n",
              "<head><meta charset=\"utf-8\" /></head>\n",
              "<body>\n",
              "    <div>\n",
              "            <script src=\"https://cdnjs.cloudflare.com/ajax/libs/mathjax/2.7.5/MathJax.js?config=TeX-AMS-MML_SVG\"></script><script type=\"text/javascript\">if (window.MathJax) {MathJax.Hub.Config({SVG: {font: \"STIX-Web\"}});}</script>\n",
              "                <script type=\"text/javascript\">window.PlotlyConfig = {MathJaxConfig: 'local'};</script>\n",
              "        <script src=\"https://cdn.plot.ly/plotly-latest.min.js\"></script>    \n",
              "            <div id=\"11a7eecb-77c0-43bf-872a-2113cf06a935\" class=\"plotly-graph-div\" style=\"height:772px; width:950px;\"></div>\n",
              "            <script type=\"text/javascript\">\n",
              "                \n",
              "                    window.PLOTLYENV=window.PLOTLYENV || {};\n",
              "                    \n",
              "                if (document.getElementById(\"11a7eecb-77c0-43bf-872a-2113cf06a935\")) {\n",
              "                    Plotly.newPlot(\n",
              "                        '11a7eecb-77c0-43bf-872a-2113cf06a935',\n",
              "                        [{\"domain\": {\"x\": [0, 1], \"y\": [0, 1]}, \"link\": {\"color\": \"rgba(203, 153, 126, 0.15)\", \"source\": [0, 1, 3, 7, 0, 1, 0, 10, 3, 4, 1, 9, 4, 4, 7, 0, 0, 0, 0, 9, 8, 0, 13, 8, 0, 8, 9, 8, 8, 1, 13, 0, 13, 1, 0, 1, 1, 4, 0, 0, 4, 4, 4, 8, 13, 0, 3, 0], \"target\": [20, 23, 24, 24, 31, 21, 25, 32, 26, 38, 24, 30, 31, 32, 26, 37, 29, 28, 40, 33, 21, 23, 21, 30, 27, 26, 41, 32, 38, 30, 24, 38, 26, 38, 32, 32, 33, 26, 24, 21, 21, 24, 30, 33, 30, 33, 22, 26], \"value\": [2715.425532, 2760.638298, 2765.957447, 3170.212766, 3218.085106, 3659.574468, 4007.9787229999997, 4220.744681, 4337.765957, 4529.255319, 4832.446809, 5117.021277000001, 6039.893617000001, 6784.574468000001, 6909.574468000001, 8148.93617, 8683.510638, 9460.106383, 10061.17021, 10635.6383, 10837.765959999999, 11063.82979, 11760.6383, 13728.7234, 14946.808509999999, 17771.2766, 19638.29787, 20529.25532, 20989.3617, 21414.89362, 22630.31915, 23875.0, 23877.65957, 24526.59574, 29513.29787, 32752.65957, 38069.14894, 38109.04255, 51194.14894, 52515.95745, 53335.106380000005, 53976.06382999999, 61279.255320000004, 61595.744679999996, 71582.44681000001, 140164.8936, 216845.7447, 231563.8298]}, \"node\": {\"color\": [\"#f9c74f\", \"#4d908e\", \"#B7B7A4\", \"#f8961e\", \"#fec5bb\", \"#272640\", \"#577590\", \"#f94144\", \"#277da1\", \"#a3cef1\", \"#90be6d\", \"#B7B7A4\", \"#373d20\", \"#fec89a\", \"#641220\", \"#B7B7A4\", \"#B7B7A4\", \"#B7B7A4\", \"#16db93\", \"#f9c74f\", \"#373d20\", \"#a3cef1\", \"#b1a7a6\", \"#272640\", \"#277da1\", \"#16db93\", \"#4d908e\", \"#B7B7A4\", \"#B7B7A4\", \"#f9c74f\", \"#f9c74f\", \"#f94144\", \"#577590\", \"#f8961e\", \"#efea5a\", \"#B7B7A4\", \"#B7B7A4\", \"#B7B7A4\", \"#90be6d\", \"#641220\", \"#B7B7A4\", \"#B7B7A4\", \"#B7B7A4\", \"#B7B7A4\"], \"label\": [\"Netherlands\", \"Germany\", \"Ireland\", \"Belgium\", \"C\\u00f4te d'Ivoire\", \"Austria\", \"Poland\", \"Spain\", \"France\", \"United Kingdom of Great Britain and Northern Ireland\", \"Italy\", \"Slovakia\", \"Denmark\", \"Ghana\", \"Croatia\", \"Sweden\", \"Czechia\", \"Finland\", \"Greece\", \"Bulgaria\", \"Denmark imports\", \"United Kingdom of Great Britain and Northern Ireland imports\", \"Processed\", \"Austria imports\", \"France imports\", \"Greece imports\", \"Germany imports\", \"Sweden imports\", \"Finland imports\", \"Bulgaria imports\", \"Netherlands imports\", \"Spain imports\", \"Poland imports\", \"Belgium imports\", \"Estonia imports\", \"Romania imports\", \"Hungary imports\", \"Slovakia imports\", \"Italy imports\", \"Croatia imports\", \"Czechia imports\", \"Ireland imports\", \"Portugal\", \"Portugal imports\"], \"line\": {\"color\": \"white\", \"width\": 0.5}, \"pad\": 10, \"thickness\": 20}, \"orientation\": \"h\", \"type\": \"sankey\", \"valueformat\": \".0f\"}],\n",
              "                        {\"font\": {\"size\": 10}, \"height\": 772, \"template\": {\"data\": {\"bar\": [{\"error_x\": {\"color\": \"#2a3f5f\"}, \"error_y\": {\"color\": \"#2a3f5f\"}, \"marker\": {\"line\": {\"color\": \"#E5ECF6\", \"width\": 0.5}}, \"type\": \"bar\"}], \"barpolar\": [{\"marker\": {\"line\": {\"color\": \"#E5ECF6\", \"width\": 0.5}}, \"type\": \"barpolar\"}], \"carpet\": [{\"aaxis\": {\"endlinecolor\": \"#2a3f5f\", \"gridcolor\": \"white\", \"linecolor\": \"white\", \"minorgridcolor\": \"white\", \"startlinecolor\": \"#2a3f5f\"}, \"baxis\": {\"endlinecolor\": \"#2a3f5f\", \"gridcolor\": \"white\", \"linecolor\": \"white\", \"minorgridcolor\": \"white\", \"startlinecolor\": \"#2a3f5f\"}, \"type\": \"carpet\"}], \"choropleth\": [{\"colorbar\": {\"outlinewidth\": 0, \"ticks\": \"\"}, \"type\": \"choropleth\"}], \"contour\": [{\"colorbar\": {\"outlinewidth\": 0, \"ticks\": \"\"}, \"colorscale\": [[0.0, \"#0d0887\"], [0.1111111111111111, \"#46039f\"], [0.2222222222222222, \"#7201a8\"], [0.3333333333333333, \"#9c179e\"], [0.4444444444444444, \"#bd3786\"], [0.5555555555555556, \"#d8576b\"], [0.6666666666666666, \"#ed7953\"], [0.7777777777777778, \"#fb9f3a\"], [0.8888888888888888, \"#fdca26\"], [1.0, \"#f0f921\"]], \"type\": \"contour\"}], \"contourcarpet\": [{\"colorbar\": {\"outlinewidth\": 0, \"ticks\": \"\"}, \"type\": \"contourcarpet\"}], \"heatmap\": [{\"colorbar\": {\"outlinewidth\": 0, \"ticks\": \"\"}, \"colorscale\": [[0.0, \"#0d0887\"], [0.1111111111111111, \"#46039f\"], [0.2222222222222222, \"#7201a8\"], [0.3333333333333333, \"#9c179e\"], [0.4444444444444444, \"#bd3786\"], [0.5555555555555556, \"#d8576b\"], [0.6666666666666666, \"#ed7953\"], [0.7777777777777778, \"#fb9f3a\"], [0.8888888888888888, \"#fdca26\"], [1.0, \"#f0f921\"]], \"type\": \"heatmap\"}], \"heatmapgl\": [{\"colorbar\": {\"outlinewidth\": 0, \"ticks\": \"\"}, \"colorscale\": [[0.0, \"#0d0887\"], [0.1111111111111111, \"#46039f\"], [0.2222222222222222, \"#7201a8\"], [0.3333333333333333, \"#9c179e\"], [0.4444444444444444, \"#bd3786\"], [0.5555555555555556, \"#d8576b\"], [0.6666666666666666, \"#ed7953\"], [0.7777777777777778, \"#fb9f3a\"], [0.8888888888888888, \"#fdca26\"], [1.0, \"#f0f921\"]], \"type\": \"heatmapgl\"}], \"histogram\": [{\"marker\": {\"colorbar\": {\"outlinewidth\": 0, \"ticks\": \"\"}}, \"type\": \"histogram\"}], \"histogram2d\": [{\"colorbar\": {\"outlinewidth\": 0, \"ticks\": \"\"}, \"colorscale\": [[0.0, \"#0d0887\"], [0.1111111111111111, \"#46039f\"], [0.2222222222222222, \"#7201a8\"], [0.3333333333333333, \"#9c179e\"], [0.4444444444444444, \"#bd3786\"], [0.5555555555555556, \"#d8576b\"], [0.6666666666666666, \"#ed7953\"], [0.7777777777777778, \"#fb9f3a\"], [0.8888888888888888, \"#fdca26\"], [1.0, \"#f0f921\"]], \"type\": \"histogram2d\"}], \"histogram2dcontour\": [{\"colorbar\": {\"outlinewidth\": 0, \"ticks\": \"\"}, \"colorscale\": [[0.0, \"#0d0887\"], [0.1111111111111111, \"#46039f\"], [0.2222222222222222, \"#7201a8\"], [0.3333333333333333, \"#9c179e\"], [0.4444444444444444, \"#bd3786\"], [0.5555555555555556, \"#d8576b\"], [0.6666666666666666, \"#ed7953\"], [0.7777777777777778, \"#fb9f3a\"], [0.8888888888888888, \"#fdca26\"], [1.0, \"#f0f921\"]], \"type\": \"histogram2dcontour\"}], \"mesh3d\": [{\"colorbar\": {\"outlinewidth\": 0, \"ticks\": \"\"}, \"type\": \"mesh3d\"}], \"parcoords\": [{\"line\": {\"colorbar\": {\"outlinewidth\": 0, \"ticks\": \"\"}}, \"type\": \"parcoords\"}], \"pie\": [{\"automargin\": true, \"type\": \"pie\"}], \"scatter\": [{\"marker\": {\"colorbar\": {\"outlinewidth\": 0, \"ticks\": \"\"}}, \"type\": \"scatter\"}], \"scatter3d\": [{\"line\": {\"colorbar\": {\"outlinewidth\": 0, \"ticks\": \"\"}}, \"marker\": {\"colorbar\": {\"outlinewidth\": 0, \"ticks\": \"\"}}, \"type\": \"scatter3d\"}], \"scattercarpet\": [{\"marker\": {\"colorbar\": {\"outlinewidth\": 0, \"ticks\": \"\"}}, \"type\": \"scattercarpet\"}], \"scattergeo\": [{\"marker\": {\"colorbar\": {\"outlinewidth\": 0, \"ticks\": \"\"}}, \"type\": \"scattergeo\"}], \"scattergl\": [{\"marker\": {\"colorbar\": {\"outlinewidth\": 0, \"ticks\": \"\"}}, \"type\": \"scattergl\"}], \"scattermapbox\": [{\"marker\": {\"colorbar\": {\"outlinewidth\": 0, \"ticks\": \"\"}}, \"type\": \"scattermapbox\"}], \"scatterpolar\": [{\"marker\": {\"colorbar\": {\"outlinewidth\": 0, \"ticks\": \"\"}}, \"type\": \"scatterpolar\"}], \"scatterpolargl\": [{\"marker\": {\"colorbar\": {\"outlinewidth\": 0, \"ticks\": \"\"}}, \"type\": \"scatterpolargl\"}], \"scatterternary\": [{\"marker\": {\"colorbar\": {\"outlinewidth\": 0, \"ticks\": \"\"}}, \"type\": \"scatterternary\"}], \"surface\": [{\"colorbar\": {\"outlinewidth\": 0, \"ticks\": \"\"}, \"colorscale\": [[0.0, \"#0d0887\"], [0.1111111111111111, \"#46039f\"], [0.2222222222222222, \"#7201a8\"], [0.3333333333333333, \"#9c179e\"], [0.4444444444444444, \"#bd3786\"], [0.5555555555555556, \"#d8576b\"], [0.6666666666666666, \"#ed7953\"], [0.7777777777777778, \"#fb9f3a\"], [0.8888888888888888, \"#fdca26\"], [1.0, \"#f0f921\"]], \"type\": \"surface\"}], \"table\": [{\"cells\": {\"fill\": {\"color\": \"#EBF0F8\"}, \"line\": {\"color\": \"white\"}}, \"header\": {\"fill\": {\"color\": \"#C8D4E3\"}, \"line\": {\"color\": \"white\"}}, \"type\": \"table\"}]}, \"layout\": {\"annotationdefaults\": {\"arrowcolor\": \"#2a3f5f\", \"arrowhead\": 0, \"arrowwidth\": 1}, \"coloraxis\": {\"colorbar\": {\"outlinewidth\": 0, \"ticks\": \"\"}}, \"colorscale\": {\"diverging\": [[0, \"#8e0152\"], [0.1, \"#c51b7d\"], [0.2, \"#de77ae\"], [0.3, \"#f1b6da\"], [0.4, \"#fde0ef\"], [0.5, \"#f7f7f7\"], [0.6, \"#e6f5d0\"], [0.7, \"#b8e186\"], [0.8, \"#7fbc41\"], [0.9, \"#4d9221\"], [1, \"#276419\"]], \"sequential\": [[0.0, \"#0d0887\"], [0.1111111111111111, \"#46039f\"], [0.2222222222222222, \"#7201a8\"], [0.3333333333333333, \"#9c179e\"], [0.4444444444444444, \"#bd3786\"], [0.5555555555555556, \"#d8576b\"], [0.6666666666666666, \"#ed7953\"], [0.7777777777777778, \"#fb9f3a\"], [0.8888888888888888, \"#fdca26\"], [1.0, \"#f0f921\"]], \"sequentialminus\": [[0.0, \"#0d0887\"], [0.1111111111111111, \"#46039f\"], [0.2222222222222222, \"#7201a8\"], [0.3333333333333333, \"#9c179e\"], [0.4444444444444444, \"#bd3786\"], [0.5555555555555556, \"#d8576b\"], [0.6666666666666666, \"#ed7953\"], [0.7777777777777778, \"#fb9f3a\"], [0.8888888888888888, \"#fdca26\"], [1.0, \"#f0f921\"]]}, \"colorway\": [\"#636efa\", \"#EF553B\", \"#00cc96\", \"#ab63fa\", \"#FFA15A\", \"#19d3f3\", \"#FF6692\", \"#B6E880\", \"#FF97FF\", \"#FECB52\"], \"font\": {\"color\": \"#2a3f5f\"}, \"geo\": {\"bgcolor\": \"white\", \"lakecolor\": \"white\", \"landcolor\": \"#E5ECF6\", \"showlakes\": true, \"showland\": true, \"subunitcolor\": \"white\"}, \"hoverlabel\": {\"align\": \"left\"}, \"hovermode\": \"closest\", \"mapbox\": {\"style\": \"light\"}, \"paper_bgcolor\": \"white\", \"plot_bgcolor\": \"#E5ECF6\", \"polar\": {\"angularaxis\": {\"gridcolor\": \"white\", \"linecolor\": \"white\", \"ticks\": \"\"}, \"bgcolor\": \"#E5ECF6\", \"radialaxis\": {\"gridcolor\": \"white\", \"linecolor\": \"white\", \"ticks\": \"\"}}, \"scene\": {\"xaxis\": {\"backgroundcolor\": \"#E5ECF6\", \"gridcolor\": \"white\", \"gridwidth\": 2, \"linecolor\": \"white\", \"showbackground\": true, \"ticks\": \"\", \"zerolinecolor\": \"white\"}, \"yaxis\": {\"backgroundcolor\": \"#E5ECF6\", \"gridcolor\": \"white\", \"gridwidth\": 2, \"linecolor\": \"white\", \"showbackground\": true, \"ticks\": \"\", \"zerolinecolor\": \"white\"}, \"zaxis\": {\"backgroundcolor\": \"#E5ECF6\", \"gridcolor\": \"white\", \"gridwidth\": 2, \"linecolor\": \"white\", \"showbackground\": true, \"ticks\": \"\", \"zerolinecolor\": \"white\"}}, \"shapedefaults\": {\"line\": {\"color\": \"#2a3f5f\"}}, \"ternary\": {\"aaxis\": {\"gridcolor\": \"white\", \"linecolor\": \"white\", \"ticks\": \"\"}, \"baxis\": {\"gridcolor\": \"white\", \"linecolor\": \"white\", \"ticks\": \"\"}, \"bgcolor\": \"#E5ECF6\", \"caxis\": {\"gridcolor\": \"white\", \"linecolor\": \"white\", \"ticks\": \"\"}}, \"title\": {\"x\": 0.05}, \"xaxis\": {\"automargin\": true, \"gridcolor\": \"white\", \"linecolor\": \"white\", \"ticks\": \"\", \"title\": {\"standoff\": 15}, \"zerolinecolor\": \"white\", \"zerolinewidth\": 2}, \"yaxis\": {\"automargin\": true, \"gridcolor\": \"white\", \"linecolor\": \"white\", \"ticks\": \"\", \"title\": {\"standoff\": 15}, \"zerolinecolor\": \"white\", \"zerolinewidth\": 2}}}, \"title\": {\"text\": \"Cocoa butter flows from West Africa and within the EU 28 in raw cocoa equivalents - 2017 data (Quantity in tonnes)\"}, \"width\": 950},\n",
              "                        {\"responsive\": true}\n",
              "                    ).then(function(){\n",
              "                            \n",
              "var gd = document.getElementById('11a7eecb-77c0-43bf-872a-2113cf06a935');\n",
              "var x = new MutationObserver(function (mutations, observer) {{\n",
              "        var display = window.getComputedStyle(gd).display;\n",
              "        if (!display || display === 'none') {{\n",
              "            console.log([gd, 'removed!']);\n",
              "            Plotly.purge(gd);\n",
              "            observer.disconnect();\n",
              "        }}\n",
              "}});\n",
              "\n",
              "// Listen for the removal of the full notebook cells\n",
              "var notebookContainer = gd.closest('#notebook-container');\n",
              "if (notebookContainer) {{\n",
              "    x.observe(notebookContainer, {childList: true});\n",
              "}}\n",
              "\n",
              "// Listen for the clearing of the current output cell\n",
              "var outputEl = gd.closest('.output');\n",
              "if (outputEl) {{\n",
              "    x.observe(outputEl, {childList: true});\n",
              "}}\n",
              "\n",
              "                        })\n",
              "                };\n",
              "                \n",
              "            </script>\n",
              "        </div>\n",
              "</body>\n",
              "</html>"
            ]
          },
          "metadata": {
            "tags": []
          }
        }
      ]
    },
    {
      "cell_type": "code",
      "metadata": {
        "colab": {
          "base_uri": "https://localhost:8080/",
          "height": 35
        },
        "id": "l4iw5y0G3W1C",
        "outputId": "22a3c4b9-0797-4c1a-d443-f0a46ec0339d"
      },
      "source": [
        "plotly.offline.plot(fig, filename=r'GH_CI_EU28_cocoabutter_raw eqs_2017_Sankeyinteractive.html')"
      ],
      "execution_count": null,
      "outputs": [
        {
          "output_type": "execute_result",
          "data": {
            "application/vnd.google.colaboratory.intrinsic+json": {
              "type": "string"
            },
            "text/plain": [
              "'GH_CI_EU28_cocoabutter_raw eqs_2017_Sankeyinteractive.html'"
            ]
          },
          "metadata": {
            "tags": []
          },
          "execution_count": 27
        }
      ]
    },
    {
      "cell_type": "markdown",
      "metadata": {
        "id": "0es5TmwH_-UT"
      },
      "source": [
        "## Powder"
      ]
    },
    {
      "cell_type": "code",
      "metadata": {
        "id": "ZWj5mo2E3kxH"
      },
      "source": [
        "powderraweqs_df = pd.read_csv('Cocoa powder raw equivalents.csv')"
      ],
      "execution_count": null,
      "outputs": []
    },
    {
      "cell_type": "code",
      "metadata": {
        "colab": {
          "base_uri": "https://localhost:8080/",
          "height": 789
        },
        "id": "IkhVS3jTARO-",
        "outputId": "c4dff498-b474-43a1-80b2-64ef4c718fdd"
      },
      "source": [
        "data_trace = dict(\n",
        "    type='sankey',\n",
        "    domain = dict(\n",
        "      x =  [0,1],\n",
        "      y =  [0,1]\n",
        "    ),\n",
        "    orientation = \"h\",\n",
        "    valueformat = \".0f\",\n",
        "    node = dict(\n",
        "      pad = 10,\n",
        "      thickness = 20,\n",
        "      line = dict(\n",
        "        color = \"white\",\n",
        "        width = 0.5\n",
        "      ),\n",
        "      label =  derivedcomsources_list['Desc'].dropna(axis=0, how='any'),\n",
        "      color = derivedcomsources_list['Color']\n",
        "    ),\n",
        "    link = dict(\n",
        "      source = powderraweqs_df['Source'].dropna(axis=0, how='any'),\n",
        "      target = powderraweqs_df['Target'].dropna(axis=0, how='any'),\n",
        "      value = powderraweqs_df['Raw cocoa eq'].dropna(axis=0, how='any'),\n",
        "      color = 'rgba(203, 153, 126, 0.15)'\n",
        "  )\n",
        ")\n",
        "\n",
        "layout =  dict(\n",
        "    title = \"Cocoa powder flows from West Africa and within the EU 28 in raw cocoa equivalents - 2017 data (Quantity in tonnes)\",\n",
        "    height = 772,\n",
        "    width = 950,\n",
        "    font = dict(\n",
        "      size = 10\n",
        "    ),    \n",
        ")\n",
        "\n",
        "\n",
        "fig = go.Figure(data=[go.Sankey(data_trace)], layout=layout)\n",
        "fig.show()"
      ],
      "execution_count": null,
      "outputs": [
        {
          "output_type": "display_data",
          "data": {
            "text/html": [
              "<html>\n",
              "<head><meta charset=\"utf-8\" /></head>\n",
              "<body>\n",
              "    <div>\n",
              "            <script src=\"https://cdnjs.cloudflare.com/ajax/libs/mathjax/2.7.5/MathJax.js?config=TeX-AMS-MML_SVG\"></script><script type=\"text/javascript\">if (window.MathJax) {MathJax.Hub.Config({SVG: {font: \"STIX-Web\"}});}</script>\n",
              "                <script type=\"text/javascript\">window.PlotlyConfig = {MathJaxConfig: 'local'};</script>\n",
              "        <script src=\"https://cdn.plot.ly/plotly-latest.min.js\"></script>    \n",
              "            <div id=\"116b2e7f-9b62-4aa5-a75e-28d4d136c054\" class=\"plotly-graph-div\" style=\"height:772px; width:950px;\"></div>\n",
              "            <script type=\"text/javascript\">\n",
              "                \n",
              "                    window.PLOTLYENV=window.PLOTLYENV || {};\n",
              "                    \n",
              "                if (document.getElementById(\"116b2e7f-9b62-4aa5-a75e-28d4d136c054\")) {\n",
              "                    Plotly.newPlot(\n",
              "                        '116b2e7f-9b62-4aa5-a75e-28d4d136c054',\n",
              "                        [{\"domain\": {\"x\": [0, 1], \"y\": [0, 1]}, \"link\": {\"color\": \"rgba(203, 153, 126, 0.15)\", \"source\": [2, 5, 0, 5, 0, 6, 8, 9, 3, 4, 7, 0, 1, 0, 1, 0, 7, 7, 8, 7, 7, 0, 5, 10, 0, 1, 3, 7, 4, 0, 0, 14, 13, 13, 11, 13, 8, 7, 8, 0, 4, 1, 1, 0, 1, 8, 8, 4, 0, 0, 0, 3, 1, 1, 1, 1, 0, 13, 0, 13, 4, 0, 6, 10, 0, 4, 3, 1], \"target\": [22, 22, 43, 27, 20, 30, 32, 33, 21, 32, 34, 29, 35, 23, 36, 37, 26, 30, 21, 21, 33, 40, 26, 24, 35, 40, 24, 24, 33, 27, 25, 22, 29, 33, 22, 26, 30, 38, 26, 36, 24, 31, 33, 31, 21, 38, 33, 26, 21, 32, 33, 30, 30, 38, 32, 24, 38, 31, 24, 30, 30, 22, 22, 22, 26, 31, 22, 22], \"value\": [3008.72093, 3186.046512, 3197.674419, 3395.3488369999995, 3482.5581399999996, 3517.4418600000004, 3784.883721, 3880.8139530000003, 3938.953488, 4069.7674420000003, 4197.674419, 4351.744186, 4433.139535, 4671.511628, 4735.465115999999, 4866.2790700000005, 5072.674419, 5752.906977000001, 6494.186047, 6584.302326, 6802.325581, 6828.488372, 7000.0, 7197.674419, 7366.2790700000005, 8075.581395, 8200.581395000001, 9186.046512, 9401.162790999999, 9520.348837000001, 9578.488372, 10229.65116, 10334.30233, 10351.744190000001, 10523.255809999999, 11061.04651, 11296.511629999999, 11726.744190000001, 12622.09302, 13002.90698, 13040.69767, 13247.09302, 13290.69767, 13438.95349, 14648.255809999999, 15534.883719999998, 17764.534880000003, 20415.697669999998, 21930.23256, 24037.7907, 24840.116280000002, 24956.39535, 25950.5814, 29779.06977, 30994.18605, 31965.116280000002, 42168.60465, 42482.55814, 47837.2093, 64933.13952999999, 66723.83721, 93395.34883999999, 98601.74419, 117517.4419, 126479.6512, 131784.8837, 239084.3023, 351343.0233]}, \"node\": {\"color\": [\"#f9c74f\", \"#4d908e\", \"#B7B7A4\", \"#f8961e\", \"#fec5bb\", \"#272640\", \"#577590\", \"#f94144\", \"#277da1\", \"#a3cef1\", \"#90be6d\", \"#B7B7A4\", \"#373d20\", \"#fec89a\", \"#641220\", \"#B7B7A4\", \"#B7B7A4\", \"#B7B7A4\", \"#16db93\", \"#f9c74f\", \"#373d20\", \"#a3cef1\", \"#b1a7a6\", \"#272640\", \"#277da1\", \"#16db93\", \"#4d908e\", \"#B7B7A4\", \"#B7B7A4\", \"#f9c74f\", \"#f9c74f\", \"#f94144\", \"#577590\", \"#f8961e\", \"#efea5a\", \"#B7B7A4\", \"#B7B7A4\", \"#B7B7A4\", \"#90be6d\", \"#641220\", \"#B7B7A4\", \"#B7B7A4\", \"#B7B7A4\", \"#B7B7A4\"], \"label\": [\"Netherlands\", \"Germany\", \"Ireland\", \"Belgium\", \"C\\u00f4te d'Ivoire\", \"Austria\", \"Poland\", \"Spain\", \"France\", \"United Kingdom of Great Britain and Northern Ireland\", \"Italy\", \"Slovakia\", \"Denmark\", \"Ghana\", \"Croatia\", \"Sweden\", \"Czechia\", \"Finland\", \"Greece\", \"Bulgaria\", \"Denmark imports\", \"United Kingdom of Great Britain and Northern Ireland imports\", \"Processed\", \"Austria imports\", \"France imports\", \"Greece imports\", \"Germany imports\", \"Sweden imports\", \"Finland imports\", \"Bulgaria imports\", \"Netherlands imports\", \"Spain imports\", \"Poland imports\", \"Belgium imports\", \"Estonia imports\", \"Romania imports\", \"Hungary imports\", \"Slovakia imports\", \"Italy imports\", \"Croatia imports\", \"Czechia imports\", \"Ireland imports\", \"Portugal\", \"Portugal imports\"], \"line\": {\"color\": \"white\", \"width\": 0.5}, \"pad\": 10, \"thickness\": 20}, \"orientation\": \"h\", \"type\": \"sankey\", \"valueformat\": \".0f\"}],\n",
              "                        {\"font\": {\"size\": 10}, \"height\": 772, \"template\": {\"data\": {\"bar\": [{\"error_x\": {\"color\": \"#2a3f5f\"}, \"error_y\": {\"color\": \"#2a3f5f\"}, \"marker\": {\"line\": {\"color\": \"#E5ECF6\", \"width\": 0.5}}, \"type\": \"bar\"}], \"barpolar\": [{\"marker\": {\"line\": {\"color\": \"#E5ECF6\", \"width\": 0.5}}, \"type\": \"barpolar\"}], \"carpet\": [{\"aaxis\": {\"endlinecolor\": \"#2a3f5f\", \"gridcolor\": \"white\", \"linecolor\": \"white\", \"minorgridcolor\": \"white\", \"startlinecolor\": \"#2a3f5f\"}, \"baxis\": {\"endlinecolor\": \"#2a3f5f\", \"gridcolor\": \"white\", \"linecolor\": \"white\", \"minorgridcolor\": \"white\", \"startlinecolor\": \"#2a3f5f\"}, \"type\": \"carpet\"}], \"choropleth\": [{\"colorbar\": {\"outlinewidth\": 0, \"ticks\": \"\"}, \"type\": \"choropleth\"}], \"contour\": [{\"colorbar\": {\"outlinewidth\": 0, \"ticks\": \"\"}, \"colorscale\": [[0.0, \"#0d0887\"], [0.1111111111111111, \"#46039f\"], [0.2222222222222222, \"#7201a8\"], [0.3333333333333333, \"#9c179e\"], [0.4444444444444444, \"#bd3786\"], [0.5555555555555556, \"#d8576b\"], [0.6666666666666666, \"#ed7953\"], [0.7777777777777778, \"#fb9f3a\"], [0.8888888888888888, \"#fdca26\"], [1.0, \"#f0f921\"]], \"type\": \"contour\"}], \"contourcarpet\": [{\"colorbar\": {\"outlinewidth\": 0, \"ticks\": \"\"}, \"type\": \"contourcarpet\"}], \"heatmap\": [{\"colorbar\": {\"outlinewidth\": 0, \"ticks\": \"\"}, \"colorscale\": [[0.0, \"#0d0887\"], [0.1111111111111111, \"#46039f\"], [0.2222222222222222, \"#7201a8\"], [0.3333333333333333, \"#9c179e\"], [0.4444444444444444, \"#bd3786\"], [0.5555555555555556, \"#d8576b\"], [0.6666666666666666, \"#ed7953\"], [0.7777777777777778, \"#fb9f3a\"], [0.8888888888888888, \"#fdca26\"], [1.0, \"#f0f921\"]], \"type\": \"heatmap\"}], \"heatmapgl\": [{\"colorbar\": {\"outlinewidth\": 0, \"ticks\": \"\"}, \"colorscale\": [[0.0, \"#0d0887\"], [0.1111111111111111, \"#46039f\"], [0.2222222222222222, \"#7201a8\"], [0.3333333333333333, \"#9c179e\"], [0.4444444444444444, \"#bd3786\"], [0.5555555555555556, \"#d8576b\"], [0.6666666666666666, \"#ed7953\"], [0.7777777777777778, \"#fb9f3a\"], [0.8888888888888888, \"#fdca26\"], [1.0, \"#f0f921\"]], \"type\": \"heatmapgl\"}], \"histogram\": [{\"marker\": {\"colorbar\": {\"outlinewidth\": 0, \"ticks\": \"\"}}, \"type\": \"histogram\"}], \"histogram2d\": [{\"colorbar\": {\"outlinewidth\": 0, \"ticks\": \"\"}, \"colorscale\": [[0.0, \"#0d0887\"], [0.1111111111111111, \"#46039f\"], [0.2222222222222222, \"#7201a8\"], [0.3333333333333333, \"#9c179e\"], [0.4444444444444444, \"#bd3786\"], [0.5555555555555556, \"#d8576b\"], [0.6666666666666666, \"#ed7953\"], [0.7777777777777778, \"#fb9f3a\"], [0.8888888888888888, \"#fdca26\"], [1.0, \"#f0f921\"]], \"type\": \"histogram2d\"}], \"histogram2dcontour\": [{\"colorbar\": {\"outlinewidth\": 0, \"ticks\": \"\"}, \"colorscale\": [[0.0, \"#0d0887\"], [0.1111111111111111, \"#46039f\"], [0.2222222222222222, \"#7201a8\"], [0.3333333333333333, \"#9c179e\"], [0.4444444444444444, \"#bd3786\"], [0.5555555555555556, \"#d8576b\"], [0.6666666666666666, \"#ed7953\"], [0.7777777777777778, \"#fb9f3a\"], [0.8888888888888888, \"#fdca26\"], [1.0, \"#f0f921\"]], \"type\": \"histogram2dcontour\"}], \"mesh3d\": [{\"colorbar\": {\"outlinewidth\": 0, \"ticks\": \"\"}, \"type\": \"mesh3d\"}], \"parcoords\": [{\"line\": {\"colorbar\": {\"outlinewidth\": 0, \"ticks\": \"\"}}, \"type\": \"parcoords\"}], \"pie\": [{\"automargin\": true, \"type\": \"pie\"}], \"scatter\": [{\"marker\": {\"colorbar\": {\"outlinewidth\": 0, \"ticks\": \"\"}}, \"type\": \"scatter\"}], \"scatter3d\": [{\"line\": {\"colorbar\": {\"outlinewidth\": 0, \"ticks\": \"\"}}, \"marker\": {\"colorbar\": {\"outlinewidth\": 0, \"ticks\": \"\"}}, \"type\": \"scatter3d\"}], \"scattercarpet\": [{\"marker\": {\"colorbar\": {\"outlinewidth\": 0, \"ticks\": \"\"}}, \"type\": \"scattercarpet\"}], \"scattergeo\": [{\"marker\": {\"colorbar\": {\"outlinewidth\": 0, \"ticks\": \"\"}}, \"type\": \"scattergeo\"}], \"scattergl\": [{\"marker\": {\"colorbar\": {\"outlinewidth\": 0, \"ticks\": \"\"}}, \"type\": \"scattergl\"}], \"scattermapbox\": [{\"marker\": {\"colorbar\": {\"outlinewidth\": 0, \"ticks\": \"\"}}, \"type\": \"scattermapbox\"}], \"scatterpolar\": [{\"marker\": {\"colorbar\": {\"outlinewidth\": 0, \"ticks\": \"\"}}, \"type\": \"scatterpolar\"}], \"scatterpolargl\": [{\"marker\": {\"colorbar\": {\"outlinewidth\": 0, \"ticks\": \"\"}}, \"type\": \"scatterpolargl\"}], \"scatterternary\": [{\"marker\": {\"colorbar\": {\"outlinewidth\": 0, \"ticks\": \"\"}}, \"type\": \"scatterternary\"}], \"surface\": [{\"colorbar\": {\"outlinewidth\": 0, \"ticks\": \"\"}, \"colorscale\": [[0.0, \"#0d0887\"], [0.1111111111111111, \"#46039f\"], [0.2222222222222222, \"#7201a8\"], [0.3333333333333333, \"#9c179e\"], [0.4444444444444444, \"#bd3786\"], [0.5555555555555556, \"#d8576b\"], [0.6666666666666666, \"#ed7953\"], [0.7777777777777778, \"#fb9f3a\"], [0.8888888888888888, \"#fdca26\"], [1.0, \"#f0f921\"]], \"type\": \"surface\"}], \"table\": [{\"cells\": {\"fill\": {\"color\": \"#EBF0F8\"}, \"line\": {\"color\": \"white\"}}, \"header\": {\"fill\": {\"color\": \"#C8D4E3\"}, \"line\": {\"color\": \"white\"}}, \"type\": \"table\"}]}, \"layout\": {\"annotationdefaults\": {\"arrowcolor\": \"#2a3f5f\", \"arrowhead\": 0, \"arrowwidth\": 1}, \"coloraxis\": {\"colorbar\": {\"outlinewidth\": 0, \"ticks\": \"\"}}, \"colorscale\": {\"diverging\": [[0, \"#8e0152\"], [0.1, \"#c51b7d\"], [0.2, \"#de77ae\"], [0.3, \"#f1b6da\"], [0.4, \"#fde0ef\"], [0.5, \"#f7f7f7\"], [0.6, \"#e6f5d0\"], [0.7, \"#b8e186\"], [0.8, \"#7fbc41\"], [0.9, \"#4d9221\"], [1, \"#276419\"]], \"sequential\": [[0.0, \"#0d0887\"], [0.1111111111111111, \"#46039f\"], [0.2222222222222222, \"#7201a8\"], [0.3333333333333333, \"#9c179e\"], [0.4444444444444444, \"#bd3786\"], [0.5555555555555556, \"#d8576b\"], [0.6666666666666666, \"#ed7953\"], [0.7777777777777778, \"#fb9f3a\"], [0.8888888888888888, \"#fdca26\"], [1.0, \"#f0f921\"]], \"sequentialminus\": [[0.0, \"#0d0887\"], [0.1111111111111111, \"#46039f\"], [0.2222222222222222, \"#7201a8\"], [0.3333333333333333, \"#9c179e\"], [0.4444444444444444, \"#bd3786\"], [0.5555555555555556, \"#d8576b\"], [0.6666666666666666, \"#ed7953\"], [0.7777777777777778, \"#fb9f3a\"], [0.8888888888888888, \"#fdca26\"], [1.0, \"#f0f921\"]]}, \"colorway\": [\"#636efa\", \"#EF553B\", \"#00cc96\", \"#ab63fa\", \"#FFA15A\", \"#19d3f3\", \"#FF6692\", \"#B6E880\", \"#FF97FF\", \"#FECB52\"], \"font\": {\"color\": \"#2a3f5f\"}, \"geo\": {\"bgcolor\": \"white\", \"lakecolor\": \"white\", \"landcolor\": \"#E5ECF6\", \"showlakes\": true, \"showland\": true, \"subunitcolor\": \"white\"}, \"hoverlabel\": {\"align\": \"left\"}, \"hovermode\": \"closest\", \"mapbox\": {\"style\": \"light\"}, \"paper_bgcolor\": \"white\", \"plot_bgcolor\": \"#E5ECF6\", \"polar\": {\"angularaxis\": {\"gridcolor\": \"white\", \"linecolor\": \"white\", \"ticks\": \"\"}, \"bgcolor\": \"#E5ECF6\", \"radialaxis\": {\"gridcolor\": \"white\", \"linecolor\": \"white\", \"ticks\": \"\"}}, \"scene\": {\"xaxis\": {\"backgroundcolor\": \"#E5ECF6\", \"gridcolor\": \"white\", \"gridwidth\": 2, \"linecolor\": \"white\", \"showbackground\": true, \"ticks\": \"\", \"zerolinecolor\": \"white\"}, \"yaxis\": {\"backgroundcolor\": \"#E5ECF6\", \"gridcolor\": \"white\", \"gridwidth\": 2, \"linecolor\": \"white\", \"showbackground\": true, \"ticks\": \"\", \"zerolinecolor\": \"white\"}, \"zaxis\": {\"backgroundcolor\": \"#E5ECF6\", \"gridcolor\": \"white\", \"gridwidth\": 2, \"linecolor\": \"white\", \"showbackground\": true, \"ticks\": \"\", \"zerolinecolor\": \"white\"}}, \"shapedefaults\": {\"line\": {\"color\": \"#2a3f5f\"}}, \"ternary\": {\"aaxis\": {\"gridcolor\": \"white\", \"linecolor\": \"white\", \"ticks\": \"\"}, \"baxis\": {\"gridcolor\": \"white\", \"linecolor\": \"white\", \"ticks\": \"\"}, \"bgcolor\": \"#E5ECF6\", \"caxis\": {\"gridcolor\": \"white\", \"linecolor\": \"white\", \"ticks\": \"\"}}, \"title\": {\"x\": 0.05}, \"xaxis\": {\"automargin\": true, \"gridcolor\": \"white\", \"linecolor\": \"white\", \"ticks\": \"\", \"title\": {\"standoff\": 15}, \"zerolinecolor\": \"white\", \"zerolinewidth\": 2}, \"yaxis\": {\"automargin\": true, \"gridcolor\": \"white\", \"linecolor\": \"white\", \"ticks\": \"\", \"title\": {\"standoff\": 15}, \"zerolinecolor\": \"white\", \"zerolinewidth\": 2}}}, \"title\": {\"text\": \"Cocoa powder flows from West Africa and within the EU 28 in raw cocoa equivalents - 2017 data (Quantity in tonnes)\"}, \"width\": 950},\n",
              "                        {\"responsive\": true}\n",
              "                    ).then(function(){\n",
              "                            \n",
              "var gd = document.getElementById('116b2e7f-9b62-4aa5-a75e-28d4d136c054');\n",
              "var x = new MutationObserver(function (mutations, observer) {{\n",
              "        var display = window.getComputedStyle(gd).display;\n",
              "        if (!display || display === 'none') {{\n",
              "            console.log([gd, 'removed!']);\n",
              "            Plotly.purge(gd);\n",
              "            observer.disconnect();\n",
              "        }}\n",
              "}});\n",
              "\n",
              "// Listen for the removal of the full notebook cells\n",
              "var notebookContainer = gd.closest('#notebook-container');\n",
              "if (notebookContainer) {{\n",
              "    x.observe(notebookContainer, {childList: true});\n",
              "}}\n",
              "\n",
              "// Listen for the clearing of the current output cell\n",
              "var outputEl = gd.closest('.output');\n",
              "if (outputEl) {{\n",
              "    x.observe(outputEl, {childList: true});\n",
              "}}\n",
              "\n",
              "                        })\n",
              "                };\n",
              "                \n",
              "            </script>\n",
              "        </div>\n",
              "</body>\n",
              "</html>"
            ]
          },
          "metadata": {
            "tags": []
          }
        }
      ]
    },
    {
      "cell_type": "code",
      "metadata": {
        "colab": {
          "base_uri": "https://localhost:8080/",
          "height": 35
        },
        "id": "CVweB-4FAcqM",
        "outputId": "31a40acd-9b23-4638-8e50-e8e3cc092752"
      },
      "source": [
        "plotly.offline.plot(fig, filename=r'GH_CI_EU28_cocoapowder_raw eqs_2017_Sankeyinteractive.html')"
      ],
      "execution_count": null,
      "outputs": [
        {
          "output_type": "execute_result",
          "data": {
            "application/vnd.google.colaboratory.intrinsic+json": {
              "type": "string"
            },
            "text/plain": [
              "'GH_CI_EU28_cocoapowder_raw eqs_2017_Sankeyinteractive.html'"
            ]
          },
          "metadata": {
            "tags": []
          },
          "execution_count": 34
        }
      ]
    },
    {
      "cell_type": "code",
      "metadata": {
        "id": "3w4mIwcZBRPn"
      },
      "source": [
        ""
      ],
      "execution_count": null,
      "outputs": []
    }
  ]
}